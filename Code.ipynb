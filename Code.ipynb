{
 "cells": [
  {
   "cell_type": "code",
   "execution_count": null,
   "id": "323a1629",
   "metadata": {},
   "outputs": [],
   "source": [
    "################################## DATA INGESTION ################################"
   ]
  },
  {
   "cell_type": "code",
   "execution_count": 39,
   "id": "f76c475c",
   "metadata": {},
   "outputs": [],
   "source": [
    "import googlemaps\n",
    "import sqlite3 as sql\n",
    "import requests\n",
    "import pandas as pd"
   ]
  },
  {
   "cell_type": "code",
   "execution_count": 120,
   "id": "ac05abd1",
   "metadata": {},
   "outputs": [
    {
     "name": "stdout",
     "output_type": "stream",
     "text": [
      "I finished putting items in table eo_regions.\n"
     ]
    }
   ],
   "source": [
    "# downloading region files\n",
    "# Sart downloading eo region files and put it in the \"eo.db\" database in eo_regions table\n",
    "\n",
    "eos = [1, 2, 3, 4]\n",
    "total_lines = 0\n",
    "conn = sql.connect('eo.db') #create a database called \"eo.db\" to hold the master file data\n",
    "\n",
    "for eo in eos:\n",
    "    cur_eo = 'eo' + str(eo) + '.csv'\n",
    "    URL = 'https://www.irs.gov/pub/irs-soi/' + cur_eo\n",
    "    response = requests.get(URL)\n",
    "    open(cur_eo, 'wt').write(response.text)\n",
    "    master_file = pd.read_csv(cur_eo, index_col = False)\n",
    "    master_file.to_sql('eo_regions', conn, if_exists = 'append',\n",
    "                      index = False)\n",
    "print(\"I finished putting items in table eo_regions.\")"
   ]
  },
  {
   "cell_type": "code",
   "execution_count": 121,
   "id": "6c08b374",
   "metadata": {},
   "outputs": [
    {
     "name": "stdout",
     "output_type": "stream",
     "text": [
      "I finished putting items in table eo_states.\n"
     ]
    }
   ],
   "source": [
    "# start downloading eo state files and put it in \"eo.db\" database in eo_states table\n",
    "\n",
    "states = ['AL', 'AK', 'AZ', 'AR', 'CA', 'CO', 'CT', 'DC', 'DE', 'FL', 'GA', 'HI', \n",
    "         'ID', 'IL', 'IN', 'IA', 'KS', 'KY', 'LA', 'ME', 'MD', 'MA', 'MI', 'MN',\n",
    "         'MS', 'MO', 'MT', 'NC','NE', 'NV', 'NH', 'NJ', 'NM', 'NY', 'ND', 'OH', 'OK',\n",
    "         'OR', 'PA', 'RI', 'SC', 'SD', 'TN', 'TX', 'UT', 'VT', 'VA', 'WA', 'WV', \n",
    "         'WI', 'WY']\n",
    "\n",
    "for state in states:\n",
    "    cur_eo = 'eo_' + str(state).lower() + '.csv'\n",
    "    URL = 'https://www.irs.gov/pub/irs-soi/' + cur_eo\n",
    "    response = requests.get(URL)\n",
    "    open(cur_eo, 'wt').write(response.text)\n",
    "    master_file = pd.read_csv(cur_eo, index_col = False)\n",
    "    master_file.to_sql('eo_states', conn, if_exists = 'append', index = False)\n",
    "print(\"I finished putting items in table eo_states.\")    "
   ]
  },
  {
   "cell_type": "code",
   "execution_count": 122,
   "id": "6662a024",
   "metadata": {},
   "outputs": [
    {
     "name": "stdout",
     "output_type": "stream",
     "text": [
      "I finished combining the two tables\n"
     ]
    }
   ],
   "source": [
    "# In order to have one list of organizations, a union is necessary to form a table that\n",
    "#contains all entries\n",
    "\n",
    "cur = conn.cursor()\n",
    "cur.execute('CREATE TABLE eo_combined AS SELECT * FROM eo_regions UNION SELECT * FROM eo_states')\n",
    "cur.close()\n",
    "conn.commit()\n",
    "print(\"I finished combining the two tables\")"
   ]
  },
  {
   "cell_type": "code",
   "execution_count": 69,
   "id": "0f27e863",
   "metadata": {},
   "outputs": [
    {
     "name": "stdout",
     "output_type": "stream",
     "text": [
      "I finished putting items in table tax_990ez.\n"
     ]
    }
   ],
   "source": [
    "# download the Form 990-EZ Extract files for different years here \n",
    "# https://www.irs.gov/statistics/soi-tax-stats-annual-extract-of-tax-exempt-organization-financial-data  \n",
    "# Read and store content of an excel file \n",
    "# Rename the files as \"tax_900ez_year.xlsx\"\n",
    "\n",
    "taxforms = [2018, 2019, 2020, 2021]\n",
    "\n",
    "for taxform in taxforms:\n",
    "    cur_taxform = 'tax_990ez_' + str(taxform) + '.xlsx'\n",
    "    read_file = pd.read_excel (cur_taxform) # Read and store content of an excel file \n",
    "    read_file.to_csv ('tax_990ez_' + str(taxform) + '.csv', index = None, header=True) # Write the dataframe object into csv file\n",
    "    \n",
    "print(\"I finished converting in csv files.\")\n"
   ]
  },
  {
   "cell_type": "code",
   "execution_count": 123,
   "id": "0088b62d",
   "metadata": {},
   "outputs": [
    {
     "data": {
      "text/html": [
       "<div>\n",
       "<style scoped>\n",
       "    .dataframe tbody tr th:only-of-type {\n",
       "        vertical-align: middle;\n",
       "    }\n",
       "\n",
       "    .dataframe tbody tr th {\n",
       "        vertical-align: top;\n",
       "    }\n",
       "\n",
       "    .dataframe thead th {\n",
       "        text-align: right;\n",
       "    }\n",
       "</style>\n",
       "<table border=\"1\" class=\"dataframe\">\n",
       "  <thead>\n",
       "    <tr style=\"text-align: right;\">\n",
       "      <th></th>\n",
       "      <th>name</th>\n",
       "    </tr>\n",
       "  </thead>\n",
       "  <tbody>\n",
       "    <tr>\n",
       "      <th>0</th>\n",
       "      <td>eo_regions</td>\n",
       "    </tr>\n",
       "    <tr>\n",
       "      <th>1</th>\n",
       "      <td>eo_states</td>\n",
       "    </tr>\n",
       "    <tr>\n",
       "      <th>2</th>\n",
       "      <td>eo_combined</td>\n",
       "    </tr>\n",
       "  </tbody>\n",
       "</table>\n",
       "</div>"
      ],
      "text/plain": [
       "          name\n",
       "0   eo_regions\n",
       "1    eo_states\n",
       "2  eo_combined"
      ]
     },
     "execution_count": 123,
     "metadata": {},
     "output_type": "execute_result"
    }
   ],
   "source": [
    "df = pd.read_sql(\"SELECT name FROM sqlite_master WHERE type = 'table'\", conn)\n",
    "df"
   ]
  },
  {
   "cell_type": "code",
   "execution_count": 124,
   "id": "b6958171",
   "metadata": {},
   "outputs": [
    {
     "name": "stdout",
     "output_type": "stream",
     "text": [
      "region count:\t   COUNT(EIN)\n",
      "0     1806888\n",
      "state count: \t   COUNT(EIN)\n",
      "0     1802707\n",
      "diff count:  \t   COUNT(EIN)\n",
      "0        4181\n"
     ]
    }
   ],
   "source": [
    "# let's see if the two files eo_regions and eo_states matched up. This matching referes\n",
    "# to determining whether the regions and states files contains the same company data\n",
    "# We compare the EINs present in each of the two files\n",
    "\n",
    "regions_EIN_count = pd.read_sql_query(\"SELECT COUNT(EIN) FROM eo_regions\", con=conn)\n",
    "states_EIN_count = pd.read_sql_query(\"SELECT COUNT(EIN) FROM eo_states\", con=conn)\n",
    "diff_EIN = abs(regions_EIN_count - states_EIN_count)\n",
    "\n",
    "print('region count:\\t' + str(regions_EIN_count))\n",
    "print('state count: \\t' + str(states_EIN_count))\n",
    "print('diff count:  \\t' + str(diff_EIN))\n",
    "\n",
    "# there are 4,138 more organizations in the regions file compared to the State files"
   ]
  },
  {
   "cell_type": "code",
   "execution_count": 125,
   "id": "faa1bd79",
   "metadata": {},
   "outputs": [
    {
     "data": {
      "text/html": [
       "<div>\n",
       "<style scoped>\n",
       "    .dataframe tbody tr th:only-of-type {\n",
       "        vertical-align: middle;\n",
       "    }\n",
       "\n",
       "    .dataframe tbody tr th {\n",
       "        vertical-align: top;\n",
       "    }\n",
       "\n",
       "    .dataframe thead th {\n",
       "        text-align: right;\n",
       "    }\n",
       "</style>\n",
       "<table border=\"1\" class=\"dataframe\">\n",
       "  <thead>\n",
       "    <tr style=\"text-align: right;\">\n",
       "      <th></th>\n",
       "      <th>COUNT(EIN)</th>\n",
       "    </tr>\n",
       "  </thead>\n",
       "  <tbody>\n",
       "    <tr>\n",
       "      <th>0</th>\n",
       "      <td>1807749</td>\n",
       "    </tr>\n",
       "  </tbody>\n",
       "</table>\n",
       "</div>"
      ],
      "text/plain": [
       "   COUNT(EIN)\n",
       "0     1807749"
      ]
     },
     "execution_count": 125,
     "metadata": {},
     "output_type": "execute_result"
    }
   ],
   "source": [
    "# perform an other count to double check\n",
    "x = pd.read_sql_query(\"SELECT COUNT(EIN) FROM eo_combined\", con=conn)\n",
    "x"
   ]
  },
  {
   "cell_type": "code",
   "execution_count": 72,
   "id": "08169313",
   "metadata": {},
   "outputs": [
    {
     "name": "stdout",
     "output_type": "stream",
     "text": [
      "df1:\t226533\n",
      "df2: \t218671\n",
      "df3:  \t154314\n",
      "df4:  \t218733\n",
      "tax_990ez:  \t818251\n"
     ]
    }
   ],
   "source": [
    "df1 = pd.DataFrame(pd.read_csv(\"tax_990ez_2018.csv\"))\n",
    "df2 = pd.DataFrame(pd.read_csv(\"tax_990ez_2019.csv\"))\n",
    "df3 = pd.DataFrame(pd.read_csv(\"tax_990ez_2020.csv\"))\n",
    "df4 = pd.DataFrame(pd.read_csv(\"tax_990ez_2021.csv\"))\n",
    "\n",
    "tax_990ez = pd.concat([df1, df2, df3, df4], axis=0)\n",
    "\n",
    "print('df1:\\t' + str(len(df1)))\n",
    "print('df2: \\t' + str(len(df2)))\n",
    "print('df3:  \\t' + str(len(df3)))\n",
    "print('df4:  \\t' + str(len(df4)))\n",
    "print('tax_990ez:  \\t' + str(len(tax_990ez)))\n",
    "\n"
   ]
  },
  {
   "cell_type": "code",
   "execution_count": 126,
   "id": "be7fe320",
   "metadata": {},
   "outputs": [
    {
     "data": {
      "text/plain": [
       "218733"
      ]
     },
     "execution_count": 126,
     "metadata": {},
     "output_type": "execute_result"
    }
   ],
   "source": [
    "master_file = pd.read_csv(\"tax_990ez_2021.csv\", index_col = False)\n",
    "master_file.to_sql('tax_990ez', conn, if_exists='append', index = False)"
   ]
  },
  {
   "cell_type": "code",
   "execution_count": 127,
   "id": "aee69fb2",
   "metadata": {},
   "outputs": [
    {
     "data": {
      "text/html": [
       "<div>\n",
       "<style scoped>\n",
       "    .dataframe tbody tr th:only-of-type {\n",
       "        vertical-align: middle;\n",
       "    }\n",
       "\n",
       "    .dataframe tbody tr th {\n",
       "        vertical-align: top;\n",
       "    }\n",
       "\n",
       "    .dataframe thead th {\n",
       "        text-align: right;\n",
       "    }\n",
       "</style>\n",
       "<table border=\"1\" class=\"dataframe\">\n",
       "  <thead>\n",
       "    <tr style=\"text-align: right;\">\n",
       "      <th></th>\n",
       "      <th>name</th>\n",
       "    </tr>\n",
       "  </thead>\n",
       "  <tbody>\n",
       "    <tr>\n",
       "      <th>0</th>\n",
       "      <td>eo_regions</td>\n",
       "    </tr>\n",
       "    <tr>\n",
       "      <th>1</th>\n",
       "      <td>eo_states</td>\n",
       "    </tr>\n",
       "    <tr>\n",
       "      <th>2</th>\n",
       "      <td>eo_combined</td>\n",
       "    </tr>\n",
       "    <tr>\n",
       "      <th>3</th>\n",
       "      <td>tax_990ez</td>\n",
       "    </tr>\n",
       "  </tbody>\n",
       "</table>\n",
       "</div>"
      ],
      "text/plain": [
       "          name\n",
       "0   eo_regions\n",
       "1    eo_states\n",
       "2  eo_combined\n",
       "3    tax_990ez"
      ]
     },
     "execution_count": 127,
     "metadata": {},
     "output_type": "execute_result"
    }
   ],
   "source": [
    "df = pd.read_sql(\"SELECT name FROM sqlite_master WHERE type = 'table'\", conn)\n",
    "df"
   ]
  },
  {
   "cell_type": "code",
   "execution_count": 128,
   "id": "a0041c61",
   "metadata": {},
   "outputs": [
    {
     "data": {
      "text/html": [
       "<div>\n",
       "<style scoped>\n",
       "    .dataframe tbody tr th:only-of-type {\n",
       "        vertical-align: middle;\n",
       "    }\n",
       "\n",
       "    .dataframe tbody tr th {\n",
       "        vertical-align: top;\n",
       "    }\n",
       "\n",
       "    .dataframe thead th {\n",
       "        text-align: right;\n",
       "    }\n",
       "</style>\n",
       "<table border=\"1\" class=\"dataframe\">\n",
       "  <thead>\n",
       "    <tr style=\"text-align: right;\">\n",
       "      <th></th>\n",
       "      <th>type</th>\n",
       "      <th>name</th>\n",
       "      <th>tbl_name</th>\n",
       "      <th>rootpage</th>\n",
       "      <th>sql</th>\n",
       "    </tr>\n",
       "  </thead>\n",
       "  <tbody>\n",
       "    <tr>\n",
       "      <th>0</th>\n",
       "      <td>table</td>\n",
       "      <td>eo_regions</td>\n",
       "      <td>eo_regions</td>\n",
       "      <td>2</td>\n",
       "      <td>CREATE TABLE \"eo_regions\" (\\n\"EIN\" INTEGER,\\n ...</td>\n",
       "    </tr>\n",
       "    <tr>\n",
       "      <th>1</th>\n",
       "      <td>table</td>\n",
       "      <td>eo_states</td>\n",
       "      <td>eo_states</td>\n",
       "      <td>64540</td>\n",
       "      <td>CREATE TABLE \"eo_states\" (\\n\"EIN\" INTEGER,\\n  ...</td>\n",
       "    </tr>\n",
       "    <tr>\n",
       "      <th>2</th>\n",
       "      <td>table</td>\n",
       "      <td>eo_combined</td>\n",
       "      <td>eo_combined</td>\n",
       "      <td>128928</td>\n",
       "      <td>CREATE TABLE eo_combined(\\n  EIN INT,\\n  NAME ...</td>\n",
       "    </tr>\n",
       "    <tr>\n",
       "      <th>3</th>\n",
       "      <td>table</td>\n",
       "      <td>tax_990ez</td>\n",
       "      <td>tax_990ez</td>\n",
       "      <td>193495</td>\n",
       "      <td>CREATE TABLE \"tax_990ez\" (\\n\"efile\" TEXT,\\n  \"...</td>\n",
       "    </tr>\n",
       "  </tbody>\n",
       "</table>\n",
       "</div>"
      ],
      "text/plain": [
       "    type         name     tbl_name  rootpage  \\\n",
       "0  table   eo_regions   eo_regions         2   \n",
       "1  table    eo_states    eo_states     64540   \n",
       "2  table  eo_combined  eo_combined    128928   \n",
       "3  table    tax_990ez    tax_990ez    193495   \n",
       "\n",
       "                                                 sql  \n",
       "0  CREATE TABLE \"eo_regions\" (\\n\"EIN\" INTEGER,\\n ...  \n",
       "1  CREATE TABLE \"eo_states\" (\\n\"EIN\" INTEGER,\\n  ...  \n",
       "2  CREATE TABLE eo_combined(\\n  EIN INT,\\n  NAME ...  \n",
       "3  CREATE TABLE \"tax_990ez\" (\\n\"efile\" TEXT,\\n  \"...  "
      ]
     },
     "execution_count": 128,
     "metadata": {},
     "output_type": "execute_result"
    }
   ],
   "source": [
    "df = pd.read_sql(\"SELECT * FROM sqlite_master WHERE type = 'table'\", conn)\n",
    "df"
   ]
  },
  {
   "cell_type": "code",
   "execution_count": null,
   "id": "e6f56b28",
   "metadata": {},
   "outputs": [],
   "source": [
    "################################## DATA ANALYSE ################################"
   ]
  },
  {
   "cell_type": "code",
   "execution_count": 129,
   "id": "0eefa94a",
   "metadata": {},
   "outputs": [
    {
     "data": {
      "text/html": [
       "<div>\n",
       "<style scoped>\n",
       "    .dataframe tbody tr th:only-of-type {\n",
       "        vertical-align: middle;\n",
       "    }\n",
       "\n",
       "    .dataframe tbody tr th {\n",
       "        vertical-align: top;\n",
       "    }\n",
       "\n",
       "    .dataframe thead th {\n",
       "        text-align: right;\n",
       "    }\n",
       "</style>\n",
       "<table border=\"1\" class=\"dataframe\">\n",
       "  <thead>\n",
       "    <tr style=\"text-align: right;\">\n",
       "      <th></th>\n",
       "      <th>COUNT(EIN)</th>\n",
       "    </tr>\n",
       "  </thead>\n",
       "  <tbody>\n",
       "    <tr>\n",
       "      <th>0</th>\n",
       "      <td>1807749</td>\n",
       "    </tr>\n",
       "  </tbody>\n",
       "</table>\n",
       "</div>"
      ],
      "text/plain": [
       "   COUNT(EIN)\n",
       "0     1807749"
      ]
     },
     "execution_count": 129,
     "metadata": {},
     "output_type": "execute_result"
    }
   ],
   "source": [
    "#how many EO in US?\n",
    "x = pd.read_sql_query(\"SELECT COUNT(EIN) FROM eo_combined\", con=conn)\n",
    "x"
   ]
  },
  {
   "cell_type": "code",
   "execution_count": 136,
   "id": "82f395d4",
   "metadata": {},
   "outputs": [
    {
     "data": {
      "text/html": [
       "<div>\n",
       "<style scoped>\n",
       "    .dataframe tbody tr th:only-of-type {\n",
       "        vertical-align: middle;\n",
       "    }\n",
       "\n",
       "    .dataframe tbody tr th {\n",
       "        vertical-align: top;\n",
       "    }\n",
       "\n",
       "    .dataframe thead th {\n",
       "        text-align: right;\n",
       "    }\n",
       "</style>\n",
       "<table border=\"1\" class=\"dataframe\">\n",
       "  <thead>\n",
       "    <tr style=\"text-align: right;\">\n",
       "      <th></th>\n",
       "      <th>cid</th>\n",
       "      <th>name</th>\n",
       "      <th>type</th>\n",
       "      <th>notnull</th>\n",
       "      <th>dflt_value</th>\n",
       "      <th>pk</th>\n",
       "    </tr>\n",
       "  </thead>\n",
       "  <tbody>\n",
       "    <tr>\n",
       "      <th>0</th>\n",
       "      <td>0</td>\n",
       "      <td>efile</td>\n",
       "      <td>TEXT</td>\n",
       "      <td>0</td>\n",
       "      <td>None</td>\n",
       "      <td>0</td>\n",
       "    </tr>\n",
       "    <tr>\n",
       "      <th>1</th>\n",
       "      <td>1</td>\n",
       "      <td>EIN</td>\n",
       "      <td>INTEGER</td>\n",
       "      <td>0</td>\n",
       "      <td>None</td>\n",
       "      <td>0</td>\n",
       "    </tr>\n",
       "    <tr>\n",
       "      <th>2</th>\n",
       "      <td>2</td>\n",
       "      <td>taxpd</td>\n",
       "      <td>INTEGER</td>\n",
       "      <td>0</td>\n",
       "      <td>None</td>\n",
       "      <td>0</td>\n",
       "    </tr>\n",
       "    <tr>\n",
       "      <th>3</th>\n",
       "      <td>3</td>\n",
       "      <td>subseccd</td>\n",
       "      <td>INTEGER</td>\n",
       "      <td>0</td>\n",
       "      <td>None</td>\n",
       "      <td>0</td>\n",
       "    </tr>\n",
       "    <tr>\n",
       "      <th>4</th>\n",
       "      <td>4</td>\n",
       "      <td>totcntrbs</td>\n",
       "      <td>INTEGER</td>\n",
       "      <td>0</td>\n",
       "      <td>None</td>\n",
       "      <td>0</td>\n",
       "    </tr>\n",
       "    <tr>\n",
       "      <th>5</th>\n",
       "      <td>5</td>\n",
       "      <td>prgmservrev</td>\n",
       "      <td>INTEGER</td>\n",
       "      <td>0</td>\n",
       "      <td>None</td>\n",
       "      <td>0</td>\n",
       "    </tr>\n",
       "    <tr>\n",
       "      <th>6</th>\n",
       "      <td>6</td>\n",
       "      <td>duesassesmnts</td>\n",
       "      <td>INTEGER</td>\n",
       "      <td>0</td>\n",
       "      <td>None</td>\n",
       "      <td>0</td>\n",
       "    </tr>\n",
       "    <tr>\n",
       "      <th>7</th>\n",
       "      <td>7</td>\n",
       "      <td>othrinvstinc</td>\n",
       "      <td>INTEGER</td>\n",
       "      <td>0</td>\n",
       "      <td>None</td>\n",
       "      <td>0</td>\n",
       "    </tr>\n",
       "    <tr>\n",
       "      <th>8</th>\n",
       "      <td>8</td>\n",
       "      <td>grsamtsalesastothr</td>\n",
       "      <td>INTEGER</td>\n",
       "      <td>0</td>\n",
       "      <td>None</td>\n",
       "      <td>0</td>\n",
       "    </tr>\n",
       "    <tr>\n",
       "      <th>9</th>\n",
       "      <td>9</td>\n",
       "      <td>basisalesexpnsothr</td>\n",
       "      <td>INTEGER</td>\n",
       "      <td>0</td>\n",
       "      <td>None</td>\n",
       "      <td>0</td>\n",
       "    </tr>\n",
       "    <tr>\n",
       "      <th>10</th>\n",
       "      <td>10</td>\n",
       "      <td>gnsaleofastothr</td>\n",
       "      <td>INTEGER</td>\n",
       "      <td>0</td>\n",
       "      <td>None</td>\n",
       "      <td>0</td>\n",
       "    </tr>\n",
       "    <tr>\n",
       "      <th>11</th>\n",
       "      <td>11</td>\n",
       "      <td>grsincgaming</td>\n",
       "      <td>INTEGER</td>\n",
       "      <td>0</td>\n",
       "      <td>None</td>\n",
       "      <td>0</td>\n",
       "    </tr>\n",
       "    <tr>\n",
       "      <th>12</th>\n",
       "      <td>12</td>\n",
       "      <td>grsrevnuefndrsng</td>\n",
       "      <td>INTEGER</td>\n",
       "      <td>0</td>\n",
       "      <td>None</td>\n",
       "      <td>0</td>\n",
       "    </tr>\n",
       "    <tr>\n",
       "      <th>13</th>\n",
       "      <td>13</td>\n",
       "      <td>direxpns</td>\n",
       "      <td>INTEGER</td>\n",
       "      <td>0</td>\n",
       "      <td>None</td>\n",
       "      <td>0</td>\n",
       "    </tr>\n",
       "    <tr>\n",
       "      <th>14</th>\n",
       "      <td>14</td>\n",
       "      <td>netincfndrsng</td>\n",
       "      <td>INTEGER</td>\n",
       "      <td>0</td>\n",
       "      <td>None</td>\n",
       "      <td>0</td>\n",
       "    </tr>\n",
       "    <tr>\n",
       "      <th>15</th>\n",
       "      <td>15</td>\n",
       "      <td>grsalesminusret</td>\n",
       "      <td>INTEGER</td>\n",
       "      <td>0</td>\n",
       "      <td>None</td>\n",
       "      <td>0</td>\n",
       "    </tr>\n",
       "    <tr>\n",
       "      <th>16</th>\n",
       "      <td>16</td>\n",
       "      <td>costgoodsold</td>\n",
       "      <td>INTEGER</td>\n",
       "      <td>0</td>\n",
       "      <td>None</td>\n",
       "      <td>0</td>\n",
       "    </tr>\n",
       "    <tr>\n",
       "      <th>17</th>\n",
       "      <td>17</td>\n",
       "      <td>grsprft</td>\n",
       "      <td>INTEGER</td>\n",
       "      <td>0</td>\n",
       "      <td>None</td>\n",
       "      <td>0</td>\n",
       "    </tr>\n",
       "    <tr>\n",
       "      <th>18</th>\n",
       "      <td>18</td>\n",
       "      <td>othrevnue</td>\n",
       "      <td>INTEGER</td>\n",
       "      <td>0</td>\n",
       "      <td>None</td>\n",
       "      <td>0</td>\n",
       "    </tr>\n",
       "    <tr>\n",
       "      <th>19</th>\n",
       "      <td>19</td>\n",
       "      <td>totrevnue</td>\n",
       "      <td>INTEGER</td>\n",
       "      <td>0</td>\n",
       "      <td>None</td>\n",
       "      <td>0</td>\n",
       "    </tr>\n",
       "    <tr>\n",
       "      <th>20</th>\n",
       "      <td>20</td>\n",
       "      <td>totexpns</td>\n",
       "      <td>INTEGER</td>\n",
       "      <td>0</td>\n",
       "      <td>None</td>\n",
       "      <td>0</td>\n",
       "    </tr>\n",
       "    <tr>\n",
       "      <th>21</th>\n",
       "      <td>21</td>\n",
       "      <td>totexcessyr</td>\n",
       "      <td>INTEGER</td>\n",
       "      <td>0</td>\n",
       "      <td>None</td>\n",
       "      <td>0</td>\n",
       "    </tr>\n",
       "    <tr>\n",
       "      <th>22</th>\n",
       "      <td>22</td>\n",
       "      <td>othrchgsnetassetfnd</td>\n",
       "      <td>INTEGER</td>\n",
       "      <td>0</td>\n",
       "      <td>None</td>\n",
       "      <td>0</td>\n",
       "    </tr>\n",
       "    <tr>\n",
       "      <th>23</th>\n",
       "      <td>23</td>\n",
       "      <td>networthend</td>\n",
       "      <td>INTEGER</td>\n",
       "      <td>0</td>\n",
       "      <td>None</td>\n",
       "      <td>0</td>\n",
       "    </tr>\n",
       "    <tr>\n",
       "      <th>24</th>\n",
       "      <td>24</td>\n",
       "      <td>totassetsend</td>\n",
       "      <td>INTEGER</td>\n",
       "      <td>0</td>\n",
       "      <td>None</td>\n",
       "      <td>0</td>\n",
       "    </tr>\n",
       "    <tr>\n",
       "      <th>25</th>\n",
       "      <td>25</td>\n",
       "      <td>totliabend</td>\n",
       "      <td>INTEGER</td>\n",
       "      <td>0</td>\n",
       "      <td>None</td>\n",
       "      <td>0</td>\n",
       "    </tr>\n",
       "    <tr>\n",
       "      <th>26</th>\n",
       "      <td>26</td>\n",
       "      <td>totnetassetsend</td>\n",
       "      <td>INTEGER</td>\n",
       "      <td>0</td>\n",
       "      <td>None</td>\n",
       "      <td>0</td>\n",
       "    </tr>\n",
       "    <tr>\n",
       "      <th>27</th>\n",
       "      <td>27</td>\n",
       "      <td>actvtynotprevrptcd</td>\n",
       "      <td>TEXT</td>\n",
       "      <td>0</td>\n",
       "      <td>None</td>\n",
       "      <td>0</td>\n",
       "    </tr>\n",
       "    <tr>\n",
       "      <th>28</th>\n",
       "      <td>28</td>\n",
       "      <td>chngsinorgcd</td>\n",
       "      <td>TEXT</td>\n",
       "      <td>0</td>\n",
       "      <td>None</td>\n",
       "      <td>0</td>\n",
       "    </tr>\n",
       "    <tr>\n",
       "      <th>29</th>\n",
       "      <td>29</td>\n",
       "      <td>unrelbusincd</td>\n",
       "      <td>TEXT</td>\n",
       "      <td>0</td>\n",
       "      <td>None</td>\n",
       "      <td>0</td>\n",
       "    </tr>\n",
       "    <tr>\n",
       "      <th>30</th>\n",
       "      <td>30</td>\n",
       "      <td>filedf990tcd</td>\n",
       "      <td>TEXT</td>\n",
       "      <td>0</td>\n",
       "      <td>None</td>\n",
       "      <td>0</td>\n",
       "    </tr>\n",
       "    <tr>\n",
       "      <th>31</th>\n",
       "      <td>31</td>\n",
       "      <td>contractioncd</td>\n",
       "      <td>TEXT</td>\n",
       "      <td>0</td>\n",
       "      <td>None</td>\n",
       "      <td>0</td>\n",
       "    </tr>\n",
       "    <tr>\n",
       "      <th>32</th>\n",
       "      <td>32</td>\n",
       "      <td>politicalexpend</td>\n",
       "      <td>INTEGER</td>\n",
       "      <td>0</td>\n",
       "      <td>None</td>\n",
       "      <td>0</td>\n",
       "    </tr>\n",
       "    <tr>\n",
       "      <th>33</th>\n",
       "      <td>33</td>\n",
       "      <td>filedf1120polcd</td>\n",
       "      <td>TEXT</td>\n",
       "      <td>0</td>\n",
       "      <td>None</td>\n",
       "      <td>0</td>\n",
       "    </tr>\n",
       "    <tr>\n",
       "      <th>34</th>\n",
       "      <td>34</td>\n",
       "      <td>loanstoofficerscd</td>\n",
       "      <td>TEXT</td>\n",
       "      <td>0</td>\n",
       "      <td>None</td>\n",
       "      <td>0</td>\n",
       "    </tr>\n",
       "    <tr>\n",
       "      <th>35</th>\n",
       "      <td>35</td>\n",
       "      <td>loanstoofficers</td>\n",
       "      <td>INTEGER</td>\n",
       "      <td>0</td>\n",
       "      <td>None</td>\n",
       "      <td>0</td>\n",
       "    </tr>\n",
       "    <tr>\n",
       "      <th>36</th>\n",
       "      <td>36</td>\n",
       "      <td>initiationfee</td>\n",
       "      <td>INTEGER</td>\n",
       "      <td>0</td>\n",
       "      <td>None</td>\n",
       "      <td>0</td>\n",
       "    </tr>\n",
       "    <tr>\n",
       "      <th>37</th>\n",
       "      <td>37</td>\n",
       "      <td>grspublicrcpts</td>\n",
       "      <td>INTEGER</td>\n",
       "      <td>0</td>\n",
       "      <td>None</td>\n",
       "      <td>0</td>\n",
       "    </tr>\n",
       "    <tr>\n",
       "      <th>38</th>\n",
       "      <td>38</td>\n",
       "      <td>s4958excessbenefcd</td>\n",
       "      <td>TEXT</td>\n",
       "      <td>0</td>\n",
       "      <td>None</td>\n",
       "      <td>0</td>\n",
       "    </tr>\n",
       "    <tr>\n",
       "      <th>39</th>\n",
       "      <td>39</td>\n",
       "      <td>prohibtdtxshltrcd</td>\n",
       "      <td>TEXT</td>\n",
       "      <td>0</td>\n",
       "      <td>None</td>\n",
       "      <td>0</td>\n",
       "    </tr>\n",
       "    <tr>\n",
       "      <th>40</th>\n",
       "      <td>40</td>\n",
       "      <td>nonpfrea</td>\n",
       "      <td>REAL</td>\n",
       "      <td>0</td>\n",
       "      <td>None</td>\n",
       "      <td>0</td>\n",
       "    </tr>\n",
       "    <tr>\n",
       "      <th>41</th>\n",
       "      <td>41</td>\n",
       "      <td>totnoforgscnt</td>\n",
       "      <td>INTEGER</td>\n",
       "      <td>0</td>\n",
       "      <td>None</td>\n",
       "      <td>0</td>\n",
       "    </tr>\n",
       "    <tr>\n",
       "      <th>42</th>\n",
       "      <td>42</td>\n",
       "      <td>totsupport</td>\n",
       "      <td>INTEGER</td>\n",
       "      <td>0</td>\n",
       "      <td>None</td>\n",
       "      <td>0</td>\n",
       "    </tr>\n",
       "    <tr>\n",
       "      <th>43</th>\n",
       "      <td>43</td>\n",
       "      <td>gftgrntrcvd170</td>\n",
       "      <td>INTEGER</td>\n",
       "      <td>0</td>\n",
       "      <td>None</td>\n",
       "      <td>0</td>\n",
       "    </tr>\n",
       "    <tr>\n",
       "      <th>44</th>\n",
       "      <td>44</td>\n",
       "      <td>txrevnuelevied170</td>\n",
       "      <td>INTEGER</td>\n",
       "      <td>0</td>\n",
       "      <td>None</td>\n",
       "      <td>0</td>\n",
       "    </tr>\n",
       "    <tr>\n",
       "      <th>45</th>\n",
       "      <td>45</td>\n",
       "      <td>srvcsval170</td>\n",
       "      <td>INTEGER</td>\n",
       "      <td>0</td>\n",
       "      <td>None</td>\n",
       "      <td>0</td>\n",
       "    </tr>\n",
       "    <tr>\n",
       "      <th>46</th>\n",
       "      <td>46</td>\n",
       "      <td>pubsuppsubtot170</td>\n",
       "      <td>INTEGER</td>\n",
       "      <td>0</td>\n",
       "      <td>None</td>\n",
       "      <td>0</td>\n",
       "    </tr>\n",
       "    <tr>\n",
       "      <th>47</th>\n",
       "      <td>47</td>\n",
       "      <td>excds2pct170</td>\n",
       "      <td>INTEGER</td>\n",
       "      <td>0</td>\n",
       "      <td>None</td>\n",
       "      <td>0</td>\n",
       "    </tr>\n",
       "    <tr>\n",
       "      <th>48</th>\n",
       "      <td>48</td>\n",
       "      <td>pubsupplesspct170</td>\n",
       "      <td>INTEGER</td>\n",
       "      <td>0</td>\n",
       "      <td>None</td>\n",
       "      <td>0</td>\n",
       "    </tr>\n",
       "    <tr>\n",
       "      <th>49</th>\n",
       "      <td>49</td>\n",
       "      <td>samepubsuppsubtot170</td>\n",
       "      <td>INTEGER</td>\n",
       "      <td>0</td>\n",
       "      <td>None</td>\n",
       "      <td>0</td>\n",
       "    </tr>\n",
       "    <tr>\n",
       "      <th>50</th>\n",
       "      <td>50</td>\n",
       "      <td>grsinc170</td>\n",
       "      <td>INTEGER</td>\n",
       "      <td>0</td>\n",
       "      <td>None</td>\n",
       "      <td>0</td>\n",
       "    </tr>\n",
       "    <tr>\n",
       "      <th>51</th>\n",
       "      <td>51</td>\n",
       "      <td>netincunrelatd170</td>\n",
       "      <td>INTEGER</td>\n",
       "      <td>0</td>\n",
       "      <td>None</td>\n",
       "      <td>0</td>\n",
       "    </tr>\n",
       "    <tr>\n",
       "      <th>52</th>\n",
       "      <td>52</td>\n",
       "      <td>othrinc170</td>\n",
       "      <td>INTEGER</td>\n",
       "      <td>0</td>\n",
       "      <td>None</td>\n",
       "      <td>0</td>\n",
       "    </tr>\n",
       "    <tr>\n",
       "      <th>53</th>\n",
       "      <td>53</td>\n",
       "      <td>totsupport170</td>\n",
       "      <td>INTEGER</td>\n",
       "      <td>0</td>\n",
       "      <td>None</td>\n",
       "      <td>0</td>\n",
       "    </tr>\n",
       "    <tr>\n",
       "      <th>54</th>\n",
       "      <td>54</td>\n",
       "      <td>grsrcptsrelatd170</td>\n",
       "      <td>INTEGER</td>\n",
       "      <td>0</td>\n",
       "      <td>None</td>\n",
       "      <td>0</td>\n",
       "    </tr>\n",
       "    <tr>\n",
       "      <th>55</th>\n",
       "      <td>55</td>\n",
       "      <td>totgftgrntrcvd509</td>\n",
       "      <td>INTEGER</td>\n",
       "      <td>0</td>\n",
       "      <td>None</td>\n",
       "      <td>0</td>\n",
       "    </tr>\n",
       "    <tr>\n",
       "      <th>56</th>\n",
       "      <td>56</td>\n",
       "      <td>grsrcptsadmiss509</td>\n",
       "      <td>INTEGER</td>\n",
       "      <td>0</td>\n",
       "      <td>None</td>\n",
       "      <td>0</td>\n",
       "    </tr>\n",
       "    <tr>\n",
       "      <th>57</th>\n",
       "      <td>57</td>\n",
       "      <td>grsrcptsactvts509</td>\n",
       "      <td>INTEGER</td>\n",
       "      <td>0</td>\n",
       "      <td>None</td>\n",
       "      <td>0</td>\n",
       "    </tr>\n",
       "    <tr>\n",
       "      <th>58</th>\n",
       "      <td>58</td>\n",
       "      <td>txrevnuelevied509</td>\n",
       "      <td>INTEGER</td>\n",
       "      <td>0</td>\n",
       "      <td>None</td>\n",
       "      <td>0</td>\n",
       "    </tr>\n",
       "    <tr>\n",
       "      <th>59</th>\n",
       "      <td>59</td>\n",
       "      <td>srvcsval509</td>\n",
       "      <td>INTEGER</td>\n",
       "      <td>0</td>\n",
       "      <td>None</td>\n",
       "      <td>0</td>\n",
       "    </tr>\n",
       "    <tr>\n",
       "      <th>60</th>\n",
       "      <td>60</td>\n",
       "      <td>pubsuppsubtot509</td>\n",
       "      <td>INTEGER</td>\n",
       "      <td>0</td>\n",
       "      <td>None</td>\n",
       "      <td>0</td>\n",
       "    </tr>\n",
       "    <tr>\n",
       "      <th>61</th>\n",
       "      <td>61</td>\n",
       "      <td>rcvdfrmdisqualsub509</td>\n",
       "      <td>INTEGER</td>\n",
       "      <td>0</td>\n",
       "      <td>None</td>\n",
       "      <td>0</td>\n",
       "    </tr>\n",
       "    <tr>\n",
       "      <th>62</th>\n",
       "      <td>62</td>\n",
       "      <td>excds1pct509</td>\n",
       "      <td>INTEGER</td>\n",
       "      <td>0</td>\n",
       "      <td>None</td>\n",
       "      <td>0</td>\n",
       "    </tr>\n",
       "    <tr>\n",
       "      <th>63</th>\n",
       "      <td>63</td>\n",
       "      <td>subtotpub509</td>\n",
       "      <td>INTEGER</td>\n",
       "      <td>0</td>\n",
       "      <td>None</td>\n",
       "      <td>0</td>\n",
       "    </tr>\n",
       "    <tr>\n",
       "      <th>64</th>\n",
       "      <td>64</td>\n",
       "      <td>pubsupplesssub509</td>\n",
       "      <td>INTEGER</td>\n",
       "      <td>0</td>\n",
       "      <td>None</td>\n",
       "      <td>0</td>\n",
       "    </tr>\n",
       "    <tr>\n",
       "      <th>65</th>\n",
       "      <td>65</td>\n",
       "      <td>samepubsuppsubtot509</td>\n",
       "      <td>INTEGER</td>\n",
       "      <td>0</td>\n",
       "      <td>None</td>\n",
       "      <td>0</td>\n",
       "    </tr>\n",
       "    <tr>\n",
       "      <th>66</th>\n",
       "      <td>66</td>\n",
       "      <td>grsinc509</td>\n",
       "      <td>INTEGER</td>\n",
       "      <td>0</td>\n",
       "      <td>None</td>\n",
       "      <td>0</td>\n",
       "    </tr>\n",
       "    <tr>\n",
       "      <th>67</th>\n",
       "      <td>67</td>\n",
       "      <td>unreltxincls511tx509</td>\n",
       "      <td>INTEGER</td>\n",
       "      <td>0</td>\n",
       "      <td>None</td>\n",
       "      <td>0</td>\n",
       "    </tr>\n",
       "    <tr>\n",
       "      <th>68</th>\n",
       "      <td>68</td>\n",
       "      <td>subtotsuppinc509</td>\n",
       "      <td>INTEGER</td>\n",
       "      <td>0</td>\n",
       "      <td>None</td>\n",
       "      <td>0</td>\n",
       "    </tr>\n",
       "    <tr>\n",
       "      <th>69</th>\n",
       "      <td>69</td>\n",
       "      <td>netincunreltd509</td>\n",
       "      <td>INTEGER</td>\n",
       "      <td>0</td>\n",
       "      <td>None</td>\n",
       "      <td>0</td>\n",
       "    </tr>\n",
       "    <tr>\n",
       "      <th>70</th>\n",
       "      <td>70</td>\n",
       "      <td>othrinc509</td>\n",
       "      <td>INTEGER</td>\n",
       "      <td>0</td>\n",
       "      <td>None</td>\n",
       "      <td>0</td>\n",
       "    </tr>\n",
       "    <tr>\n",
       "      <th>71</th>\n",
       "      <td>71</td>\n",
       "      <td>totsupp509</td>\n",
       "      <td>INTEGER</td>\n",
       "      <td>0</td>\n",
       "      <td>None</td>\n",
       "      <td>0</td>\n",
       "    </tr>\n",
       "  </tbody>\n",
       "</table>\n",
       "</div>"
      ],
      "text/plain": [
       "    cid                  name     type  notnull dflt_value  pk\n",
       "0     0                 efile     TEXT        0       None   0\n",
       "1     1                   EIN  INTEGER        0       None   0\n",
       "2     2                 taxpd  INTEGER        0       None   0\n",
       "3     3              subseccd  INTEGER        0       None   0\n",
       "4     4             totcntrbs  INTEGER        0       None   0\n",
       "5     5           prgmservrev  INTEGER        0       None   0\n",
       "6     6         duesassesmnts  INTEGER        0       None   0\n",
       "7     7          othrinvstinc  INTEGER        0       None   0\n",
       "8     8    grsamtsalesastothr  INTEGER        0       None   0\n",
       "9     9    basisalesexpnsothr  INTEGER        0       None   0\n",
       "10   10       gnsaleofastothr  INTEGER        0       None   0\n",
       "11   11          grsincgaming  INTEGER        0       None   0\n",
       "12   12      grsrevnuefndrsng  INTEGER        0       None   0\n",
       "13   13              direxpns  INTEGER        0       None   0\n",
       "14   14         netincfndrsng  INTEGER        0       None   0\n",
       "15   15       grsalesminusret  INTEGER        0       None   0\n",
       "16   16          costgoodsold  INTEGER        0       None   0\n",
       "17   17               grsprft  INTEGER        0       None   0\n",
       "18   18             othrevnue  INTEGER        0       None   0\n",
       "19   19             totrevnue  INTEGER        0       None   0\n",
       "20   20              totexpns  INTEGER        0       None   0\n",
       "21   21           totexcessyr  INTEGER        0       None   0\n",
       "22   22   othrchgsnetassetfnd  INTEGER        0       None   0\n",
       "23   23           networthend  INTEGER        0       None   0\n",
       "24   24          totassetsend  INTEGER        0       None   0\n",
       "25   25            totliabend  INTEGER        0       None   0\n",
       "26   26       totnetassetsend  INTEGER        0       None   0\n",
       "27   27    actvtynotprevrptcd     TEXT        0       None   0\n",
       "28   28          chngsinorgcd     TEXT        0       None   0\n",
       "29   29          unrelbusincd     TEXT        0       None   0\n",
       "30   30          filedf990tcd     TEXT        0       None   0\n",
       "31   31         contractioncd     TEXT        0       None   0\n",
       "32   32       politicalexpend  INTEGER        0       None   0\n",
       "33   33       filedf1120polcd     TEXT        0       None   0\n",
       "34   34     loanstoofficerscd     TEXT        0       None   0\n",
       "35   35       loanstoofficers  INTEGER        0       None   0\n",
       "36   36         initiationfee  INTEGER        0       None   0\n",
       "37   37        grspublicrcpts  INTEGER        0       None   0\n",
       "38   38    s4958excessbenefcd     TEXT        0       None   0\n",
       "39   39     prohibtdtxshltrcd     TEXT        0       None   0\n",
       "40   40              nonpfrea     REAL        0       None   0\n",
       "41   41         totnoforgscnt  INTEGER        0       None   0\n",
       "42   42            totsupport  INTEGER        0       None   0\n",
       "43   43        gftgrntrcvd170  INTEGER        0       None   0\n",
       "44   44     txrevnuelevied170  INTEGER        0       None   0\n",
       "45   45           srvcsval170  INTEGER        0       None   0\n",
       "46   46      pubsuppsubtot170  INTEGER        0       None   0\n",
       "47   47          excds2pct170  INTEGER        0       None   0\n",
       "48   48     pubsupplesspct170  INTEGER        0       None   0\n",
       "49   49  samepubsuppsubtot170  INTEGER        0       None   0\n",
       "50   50             grsinc170  INTEGER        0       None   0\n",
       "51   51     netincunrelatd170  INTEGER        0       None   0\n",
       "52   52            othrinc170  INTEGER        0       None   0\n",
       "53   53         totsupport170  INTEGER        0       None   0\n",
       "54   54     grsrcptsrelatd170  INTEGER        0       None   0\n",
       "55   55     totgftgrntrcvd509  INTEGER        0       None   0\n",
       "56   56     grsrcptsadmiss509  INTEGER        0       None   0\n",
       "57   57     grsrcptsactvts509  INTEGER        0       None   0\n",
       "58   58     txrevnuelevied509  INTEGER        0       None   0\n",
       "59   59           srvcsval509  INTEGER        0       None   0\n",
       "60   60      pubsuppsubtot509  INTEGER        0       None   0\n",
       "61   61  rcvdfrmdisqualsub509  INTEGER        0       None   0\n",
       "62   62          excds1pct509  INTEGER        0       None   0\n",
       "63   63          subtotpub509  INTEGER        0       None   0\n",
       "64   64     pubsupplesssub509  INTEGER        0       None   0\n",
       "65   65  samepubsuppsubtot509  INTEGER        0       None   0\n",
       "66   66             grsinc509  INTEGER        0       None   0\n",
       "67   67  unreltxincls511tx509  INTEGER        0       None   0\n",
       "68   68      subtotsuppinc509  INTEGER        0       None   0\n",
       "69   69      netincunreltd509  INTEGER        0       None   0\n",
       "70   70            othrinc509  INTEGER        0       None   0\n",
       "71   71            totsupp509  INTEGER        0       None   0"
      ]
     },
     "execution_count": 136,
     "metadata": {},
     "output_type": "execute_result"
    }
   ],
   "source": [
    "# I wanted to display the name of all columns\n",
    "pd.options.display.max_rows = 999\n",
    "x = pd.read_sql_query(\"select * from pragma_table_info('tax_990ez') as tblInfo\", con=conn)\n",
    "x\n"
   ]
  },
  {
   "cell_type": "code",
   "execution_count": 142,
   "id": "dfd10562",
   "metadata": {},
   "outputs": [
    {
     "data": {
      "text/html": [
       "<div>\n",
       "<style scoped>\n",
       "    .dataframe tbody tr th:only-of-type {\n",
       "        vertical-align: middle;\n",
       "    }\n",
       "\n",
       "    .dataframe tbody tr th {\n",
       "        vertical-align: top;\n",
       "    }\n",
       "\n",
       "    .dataframe thead th {\n",
       "        text-align: right;\n",
       "    }\n",
       "</style>\n",
       "<table border=\"1\" class=\"dataframe\">\n",
       "  <thead>\n",
       "    <tr style=\"text-align: right;\">\n",
       "      <th></th>\n",
       "      <th>EIN</th>\n",
       "      <th>totrevnue</th>\n",
       "      <th>totnetassetsend</th>\n",
       "      <th>grsrevnuefndrsng</th>\n",
       "      <th>networthend</th>\n",
       "      <th>othrinvstinc</th>\n",
       "      <th>totexcessyr</th>\n",
       "      <th>netincfndrsng</th>\n",
       "      <th>totexpns</th>\n",
       "      <th>totliabend</th>\n",
       "    </tr>\n",
       "  </thead>\n",
       "  <tbody>\n",
       "    <tr>\n",
       "      <th>0</th>\n",
       "      <td>465457920</td>\n",
       "      <td>-1794995</td>\n",
       "      <td>90619</td>\n",
       "      <td>0</td>\n",
       "      <td>90619</td>\n",
       "      <td>0</td>\n",
       "      <td>-1795226</td>\n",
       "      <td>0</td>\n",
       "      <td>231</td>\n",
       "      <td>87394</td>\n",
       "    </tr>\n",
       "    <tr>\n",
       "      <th>1</th>\n",
       "      <td>680325967</td>\n",
       "      <td>-1109209</td>\n",
       "      <td>-4784504</td>\n",
       "      <td>0</td>\n",
       "      <td>-4784504</td>\n",
       "      <td>0</td>\n",
       "      <td>-1165369</td>\n",
       "      <td>0</td>\n",
       "      <td>56160</td>\n",
       "      <td>1600</td>\n",
       "    </tr>\n",
       "    <tr>\n",
       "      <th>2</th>\n",
       "      <td>621291403</td>\n",
       "      <td>-659807</td>\n",
       "      <td>168155</td>\n",
       "      <td>0</td>\n",
       "      <td>169055</td>\n",
       "      <td>225</td>\n",
       "      <td>-742898</td>\n",
       "      <td>0</td>\n",
       "      <td>83091</td>\n",
       "      <td>0</td>\n",
       "    </tr>\n",
       "    <tr>\n",
       "      <th>3</th>\n",
       "      <td>465469208</td>\n",
       "      <td>-299992</td>\n",
       "      <td>-1528</td>\n",
       "      <td>0</td>\n",
       "      <td>-1528</td>\n",
       "      <td>3</td>\n",
       "      <td>-305138</td>\n",
       "      <td>0</td>\n",
       "      <td>5146</td>\n",
       "      <td>46927</td>\n",
       "    </tr>\n",
       "    <tr>\n",
       "      <th>4</th>\n",
       "      <td>831358427</td>\n",
       "      <td>-297026</td>\n",
       "      <td>-1263529</td>\n",
       "      <td>0</td>\n",
       "      <td>-1263529</td>\n",
       "      <td>0</td>\n",
       "      <td>-761570</td>\n",
       "      <td>0</td>\n",
       "      <td>464544</td>\n",
       "      <td>1271217</td>\n",
       "    </tr>\n",
       "    <tr>\n",
       "      <th>5</th>\n",
       "      <td>226082382</td>\n",
       "      <td>-224906</td>\n",
       "      <td>0</td>\n",
       "      <td>0</td>\n",
       "      <td>0</td>\n",
       "      <td>0</td>\n",
       "      <td>-261150</td>\n",
       "      <td>0</td>\n",
       "      <td>36244</td>\n",
       "      <td>0</td>\n",
       "    </tr>\n",
       "    <tr>\n",
       "      <th>6</th>\n",
       "      <td>581863668</td>\n",
       "      <td>-215892</td>\n",
       "      <td>115385</td>\n",
       "      <td>0</td>\n",
       "      <td>115385</td>\n",
       "      <td>0</td>\n",
       "      <td>-220118</td>\n",
       "      <td>0</td>\n",
       "      <td>4226</td>\n",
       "      <td>0</td>\n",
       "    </tr>\n",
       "    <tr>\n",
       "      <th>7</th>\n",
       "      <td>680243642</td>\n",
       "      <td>-195345</td>\n",
       "      <td>-2169403</td>\n",
       "      <td>0</td>\n",
       "      <td>-2169403</td>\n",
       "      <td>137</td>\n",
       "      <td>-205345</td>\n",
       "      <td>0</td>\n",
       "      <td>10000</td>\n",
       "      <td>128392</td>\n",
       "    </tr>\n",
       "    <tr>\n",
       "      <th>8</th>\n",
       "      <td>454700787</td>\n",
       "      <td>-193430</td>\n",
       "      <td>27465</td>\n",
       "      <td>0</td>\n",
       "      <td>27465</td>\n",
       "      <td>0</td>\n",
       "      <td>-203868</td>\n",
       "      <td>0</td>\n",
       "      <td>10438</td>\n",
       "      <td>0</td>\n",
       "    </tr>\n",
       "    <tr>\n",
       "      <th>9</th>\n",
       "      <td>471076458</td>\n",
       "      <td>-187919</td>\n",
       "      <td>125154</td>\n",
       "      <td>350</td>\n",
       "      <td>125154</td>\n",
       "      <td>17396</td>\n",
       "      <td>-257565</td>\n",
       "      <td>-178</td>\n",
       "      <td>69646</td>\n",
       "      <td>22150</td>\n",
       "    </tr>\n",
       "  </tbody>\n",
       "</table>\n",
       "</div>"
      ],
      "text/plain": [
       "         EIN  totrevnue  totnetassetsend  grsrevnuefndrsng  networthend  \\\n",
       "0  465457920   -1794995            90619                 0        90619   \n",
       "1  680325967   -1109209         -4784504                 0     -4784504   \n",
       "2  621291403    -659807           168155                 0       169055   \n",
       "3  465469208    -299992            -1528                 0        -1528   \n",
       "4  831358427    -297026         -1263529                 0     -1263529   \n",
       "5  226082382    -224906                0                 0            0   \n",
       "6  581863668    -215892           115385                 0       115385   \n",
       "7  680243642    -195345         -2169403                 0     -2169403   \n",
       "8  454700787    -193430            27465                 0        27465   \n",
       "9  471076458    -187919           125154               350       125154   \n",
       "\n",
       "   othrinvstinc  totexcessyr  netincfndrsng  totexpns  totliabend  \n",
       "0             0     -1795226              0       231       87394  \n",
       "1             0     -1165369              0     56160        1600  \n",
       "2           225      -742898              0     83091           0  \n",
       "3             3      -305138              0      5146       46927  \n",
       "4             0      -761570              0    464544     1271217  \n",
       "5             0      -261150              0     36244           0  \n",
       "6             0      -220118              0      4226           0  \n",
       "7           137      -205345              0     10000      128392  \n",
       "8             0      -203868              0     10438           0  \n",
       "9         17396      -257565           -178     69646       22150  "
      ]
     },
     "execution_count": 142,
     "metadata": {},
     "output_type": "execute_result"
    }
   ],
   "source": [
    "# We want to see the outliers who are failing in different metrics\n",
    "conn = sql.connect('eo.db')\n",
    "x = pd.read_sql_query(\"SELECT EIN, totrevnue,totnetassetsend, grsrevnuefndrsng,networthend,  othrinvstinc, totexcessyr, netincfndrsng, totexpns, totliabend FROM tax_990ez ORDER BY totrevnue ASC LIMIT 10\", con=conn)\n",
    "x\n"
   ]
  },
  {
   "cell_type": "code",
   "execution_count": 146,
   "id": "14df1d21",
   "metadata": {},
   "outputs": [
    {
     "data": {
      "text/html": [
       "<div>\n",
       "<style scoped>\n",
       "    .dataframe tbody tr th:only-of-type {\n",
       "        vertical-align: middle;\n",
       "    }\n",
       "\n",
       "    .dataframe tbody tr th {\n",
       "        vertical-align: top;\n",
       "    }\n",
       "\n",
       "    .dataframe thead th {\n",
       "        text-align: right;\n",
       "    }\n",
       "</style>\n",
       "<table border=\"1\" class=\"dataframe\">\n",
       "  <thead>\n",
       "    <tr style=\"text-align: right;\">\n",
       "      <th></th>\n",
       "      <th>EIN</th>\n",
       "      <th>NAME</th>\n",
       "      <th>INCOME_AMT</th>\n",
       "      <th>NTEE_CD</th>\n",
       "      <th>STATE</th>\n",
       "    </tr>\n",
       "  </thead>\n",
       "  <tbody>\n",
       "    <tr>\n",
       "      <th>0</th>\n",
       "      <td>831358427</td>\n",
       "      <td>COMMUNITY COMPASSION CENTERS OF ARKANSAS</td>\n",
       "      <td>0.0</td>\n",
       "      <td>E11</td>\n",
       "      <td>AR</td>\n",
       "    </tr>\n",
       "    <tr>\n",
       "      <th>1</th>\n",
       "      <td>621291403</td>\n",
       "      <td>TENNESSEE GEOGRAPHIC ALLIANCE INC</td>\n",
       "      <td>32058.0</td>\n",
       "      <td>B99Z</td>\n",
       "      <td>TN</td>\n",
       "    </tr>\n",
       "    <tr>\n",
       "      <th>2</th>\n",
       "      <td>465469208</td>\n",
       "      <td>MARITIME FOUNDATION</td>\n",
       "      <td>50008.0</td>\n",
       "      <td>U21</td>\n",
       "      <td>NY</td>\n",
       "    </tr>\n",
       "    <tr>\n",
       "      <th>3</th>\n",
       "      <td>581863668</td>\n",
       "      <td>BASKIN N SONSHINE MINISTRIES INC</td>\n",
       "      <td>73304.0</td>\n",
       "      <td>X21Z</td>\n",
       "      <td>GA</td>\n",
       "    </tr>\n",
       "    <tr>\n",
       "      <th>4</th>\n",
       "      <td>465457920</td>\n",
       "      <td>CRUISE 4 KIDS</td>\n",
       "      <td>83734.0</td>\n",
       "      <td>O99</td>\n",
       "      <td>CA</td>\n",
       "    </tr>\n",
       "    <tr>\n",
       "      <th>5</th>\n",
       "      <td>680243642</td>\n",
       "      <td>HGA INC</td>\n",
       "      <td>143656.0</td>\n",
       "      <td>B99Z</td>\n",
       "      <td>CA</td>\n",
       "    </tr>\n",
       "    <tr>\n",
       "      <th>6</th>\n",
       "      <td>226082382</td>\n",
       "      <td>HILLTOP SWIM CLUB</td>\n",
       "      <td>146715.0</td>\n",
       "      <td>N67</td>\n",
       "      <td>NJ</td>\n",
       "    </tr>\n",
       "    <tr>\n",
       "      <th>7</th>\n",
       "      <td>454700787</td>\n",
       "      <td>LAKE POINTE RESOURCE CENTER INC</td>\n",
       "      <td>173914.0</td>\n",
       "      <td>P40</td>\n",
       "      <td>TX</td>\n",
       "    </tr>\n",
       "    <tr>\n",
       "      <th>8</th>\n",
       "      <td>471076458</td>\n",
       "      <td>CHAMBER FOUNDATION OF EFFINGHAM COUNTY</td>\n",
       "      <td>191685.0</td>\n",
       "      <td>B01</td>\n",
       "      <td>IL</td>\n",
       "    </tr>\n",
       "    <tr>\n",
       "      <th>9</th>\n",
       "      <td>680325967</td>\n",
       "      <td>AUBERRY PARK HOUSING CORPORATION</td>\n",
       "      <td>1072648.0</td>\n",
       "      <td>None</td>\n",
       "      <td>CA</td>\n",
       "    </tr>\n",
       "  </tbody>\n",
       "</table>\n",
       "</div>"
      ],
      "text/plain": [
       "         EIN                                      NAME  INCOME_AMT NTEE_CD  \\\n",
       "0  831358427  COMMUNITY COMPASSION CENTERS OF ARKANSAS         0.0     E11   \n",
       "1  621291403         TENNESSEE GEOGRAPHIC ALLIANCE INC     32058.0    B99Z   \n",
       "2  465469208                       MARITIME FOUNDATION     50008.0     U21   \n",
       "3  581863668          BASKIN N SONSHINE MINISTRIES INC     73304.0    X21Z   \n",
       "4  465457920                             CRUISE 4 KIDS     83734.0     O99   \n",
       "5  680243642                                   HGA INC    143656.0    B99Z   \n",
       "6  226082382                         HILLTOP SWIM CLUB    146715.0     N67   \n",
       "7  454700787           LAKE POINTE RESOURCE CENTER INC    173914.0     P40   \n",
       "8  471076458    CHAMBER FOUNDATION OF EFFINGHAM COUNTY    191685.0     B01   \n",
       "9  680325967          AUBERRY PARK HOUSING CORPORATION   1072648.0    None   \n",
       "\n",
       "  STATE  \n",
       "0    AR  \n",
       "1    TN  \n",
       "2    NY  \n",
       "3    GA  \n",
       "4    CA  \n",
       "5    CA  \n",
       "6    NJ  \n",
       "7    TX  \n",
       "8    IL  \n",
       "9    CA  "
      ]
     },
     "execution_count": 146,
     "metadata": {},
     "output_type": "execute_result"
    }
   ],
   "source": [
    "# We want to see what are the name and affilitation of the outliers\n",
    "x = pd.read_sql_query(\"SELECT EIN, NAME, INCOME_AMT, NTEE_CD, STATE FROM eo_combined WHERE EIN IN(465457920,680325967,621291403,465469208,831358427,226082382,581863668,680243642,454700787,471076458 ) ORDER BY INCOME_AMT ASC\", con=conn)\n",
    "x\n",
    "\n",
    "# Result : MARITIME FOUNDATION ()\"Science and Technology Research Institutes, Services\" (U)) is the EO with the lowest total revenue\n",
    "# COMMUNITY COMPASSION CENTERS OF ARKANSAS (\"Health\" (E)) is the EO with the lowest income in 2022."
   ]
  },
  {
   "cell_type": "code",
   "execution_count": 167,
   "id": "3467f8c1",
   "metadata": {},
   "outputs": [
    {
     "data": {
      "text/html": [
       "<div>\n",
       "<style scoped>\n",
       "    .dataframe tbody tr th:only-of-type {\n",
       "        vertical-align: middle;\n",
       "    }\n",
       "\n",
       "    .dataframe tbody tr th {\n",
       "        vertical-align: top;\n",
       "    }\n",
       "\n",
       "    .dataframe thead th {\n",
       "        text-align: right;\n",
       "    }\n",
       "</style>\n",
       "<table border=\"1\" class=\"dataframe\">\n",
       "  <thead>\n",
       "    <tr style=\"text-align: right;\">\n",
       "      <th></th>\n",
       "      <th>NAME</th>\n",
       "      <th>INCOME_AMT</th>\n",
       "      <th>NTEE_CD</th>\n",
       "      <th>STATE</th>\n",
       "    </tr>\n",
       "  </thead>\n",
       "  <tbody>\n",
       "    <tr>\n",
       "      <th>0</th>\n",
       "      <td>UAW RETIREE MEDICAL BENEFITS TR</td>\n",
       "      <td>2.922597e+11</td>\n",
       "      <td>Y43</td>\n",
       "      <td>MI</td>\n",
       "    </tr>\n",
       "    <tr>\n",
       "      <th>1</th>\n",
       "      <td>BILL &amp; MELINDA GATES FOUNDATION TRUST</td>\n",
       "      <td>1.709600e+11</td>\n",
       "      <td>T20Z</td>\n",
       "      <td>WA</td>\n",
       "    </tr>\n",
       "    <tr>\n",
       "      <th>2</th>\n",
       "      <td>KAISER FOUNDATION HEALTH PLAN INC</td>\n",
       "      <td>1.251027e+11</td>\n",
       "      <td>E310</td>\n",
       "      <td>CA</td>\n",
       "    </tr>\n",
       "    <tr>\n",
       "      <th>3</th>\n",
       "      <td>CENTRAL STATES SOUTHEAST &amp; SOUTHWEST AREAS HEA...</td>\n",
       "      <td>8.226478e+10</td>\n",
       "      <td>None</td>\n",
       "      <td>IL</td>\n",
       "    </tr>\n",
       "    <tr>\n",
       "      <th>4</th>\n",
       "      <td>PATELCO CREDIT UNION</td>\n",
       "      <td>5.701061e+10</td>\n",
       "      <td>None</td>\n",
       "      <td>CA</td>\n",
       "    </tr>\n",
       "    <tr>\n",
       "      <th>5</th>\n",
       "      <td>KAISER FOUNDATION HOSPITALS</td>\n",
       "      <td>5.594345e+10</td>\n",
       "      <td>E210</td>\n",
       "      <td>CA</td>\n",
       "    </tr>\n",
       "    <tr>\n",
       "      <th>6</th>\n",
       "      <td>SHELBY CULLOM DAVIS CHARITABLE FUND INC</td>\n",
       "      <td>3.778207e+10</td>\n",
       "      <td>T20</td>\n",
       "      <td>DE</td>\n",
       "    </tr>\n",
       "    <tr>\n",
       "      <th>7</th>\n",
       "      <td>HOWARD HUGHES MEDICAL INSTITUTE</td>\n",
       "      <td>3.618431e+10</td>\n",
       "      <td>H920</td>\n",
       "      <td>MD</td>\n",
       "    </tr>\n",
       "    <tr>\n",
       "      <th>8</th>\n",
       "      <td>THRIVENT FINANCIAL FOR LUTHERANS</td>\n",
       "      <td>3.402225e+10</td>\n",
       "      <td>None</td>\n",
       "      <td>MN</td>\n",
       "    </tr>\n",
       "    <tr>\n",
       "      <th>9</th>\n",
       "      <td>AARP</td>\n",
       "      <td>3.338555e+10</td>\n",
       "      <td>R25</td>\n",
       "      <td>DC</td>\n",
       "    </tr>\n",
       "  </tbody>\n",
       "</table>\n",
       "</div>"
      ],
      "text/plain": [
       "                                                NAME    INCOME_AMT NTEE_CD  \\\n",
       "0                    UAW RETIREE MEDICAL BENEFITS TR  2.922597e+11     Y43   \n",
       "1              BILL & MELINDA GATES FOUNDATION TRUST  1.709600e+11    T20Z   \n",
       "2                  KAISER FOUNDATION HEALTH PLAN INC  1.251027e+11    E310   \n",
       "3  CENTRAL STATES SOUTHEAST & SOUTHWEST AREAS HEA...  8.226478e+10    None   \n",
       "4                               PATELCO CREDIT UNION  5.701061e+10    None   \n",
       "5                        KAISER FOUNDATION HOSPITALS  5.594345e+10    E210   \n",
       "6            SHELBY CULLOM DAVIS CHARITABLE FUND INC  3.778207e+10     T20   \n",
       "7                    HOWARD HUGHES MEDICAL INSTITUTE  3.618431e+10    H920   \n",
       "8                   THRIVENT FINANCIAL FOR LUTHERANS  3.402225e+10    None   \n",
       "9                                               AARP  3.338555e+10     R25   \n",
       "\n",
       "  STATE  \n",
       "0    MI  \n",
       "1    WA  \n",
       "2    CA  \n",
       "3    IL  \n",
       "4    CA  \n",
       "5    CA  \n",
       "6    DE  \n",
       "7    MD  \n",
       "8    MN  \n",
       "9    DC  "
      ]
     },
     "execution_count": 167,
     "metadata": {},
     "output_type": "execute_result"
    }
   ],
   "source": [
    "# we want to determine which non-profit activities make the most and the least of money\n",
    "conn = sql.connect('eo.db')\n",
    "x = pd.read_sql_query(\"SELECT NAME, INCOME_AMT, NTEE_CD, STATE FROM eo_combined ORDER BY INCOME_AMT DESC LIMIT 10\", con=conn)\n",
    "x\n",
    "# Note: UAW RETIREE MEDICAL BENEFITS TR \"Mutual/Membership Benefit organization\" (Y) is the non-profit activity with the highest income in 2022.\n",
    "# California seems to have the more prolific EO"
   ]
  },
  {
   "cell_type": "code",
   "execution_count": 216,
   "id": "6f112c18",
   "metadata": {},
   "outputs": [],
   "source": [
    "# save csv.file containing the average income for each state\n",
    "pd.read_sql_query(\"SELECT STATE, AVG(INCOME_AMT) FROM eo_states GROUP BY STATE ORDER BY STATE\", con=conn).to_csv('file.csv',index=False)\n"
   ]
  },
  {
   "cell_type": "code",
   "execution_count": 275,
   "id": "97a3c0ff",
   "metadata": {},
   "outputs": [
    {
     "data": {
      "application/vnd.plotly.v1+json": {
       "config": {
        "plotlyServerURL": "https://plot.ly"
       },
       "data": [
        {
         "alignmentgroup": "True",
         "bingroup": "x",
         "histfunc": "sum",
         "hovertemplate": "STATE=%{x}<br>sum of AVG(INCOME_AMT)=%{y}<extra></extra>",
         "legendgroup": "",
         "marker": {
          "color": "#636efa",
          "pattern": {
           "shape": ""
          }
         },
         "name": "",
         "offsetgroup": "",
         "orientation": "v",
         "showlegend": false,
         "type": "histogram",
         "x": [
          "AK",
          "AL",
          "AR",
          "AZ",
          "CA",
          "CO",
          "CT",
          "DC",
          "DE",
          "FL",
          "GA",
          "HI",
          "IA",
          "ID",
          "IL",
          "IN",
          "KS",
          "KY",
          "LA",
          "MA",
          "MD",
          "ME",
          "MI",
          "MN",
          "MO",
          "MS",
          "MT",
          "NC",
          "ND",
          "NE",
          "NH",
          "NJ",
          "NM",
          "NV",
          "NY",
          "OH",
          "OK",
          "OR",
          "PA",
          "RI",
          "SC",
          "SD",
          "TN",
          "TX",
          "UT",
          "VA",
          "VT",
          "WA",
          "WI",
          "WV",
          "WY"
         ],
         "xaxis": "x",
         "y": [
          2322276.859561978,
          1137121.581027668,
          2954867.5361621715,
          2739957.500046322,
          5285630.616338004,
          2099825.2311725984,
          3419696.153862708,
          11741666.320386628,
          8913428.282793093,
          2209776.8467478147,
          2891211.4651076007,
          3818777.491870514,
          1241065.0800809138,
          1569709.8205263854,
          5073639.796272391,
          3140271.4498824878,
          1510965.1808580377,
          2351815.1318389974,
          1932273.1817530023,
          7682783.296330066,
          4570836.292860743,
          2604959.4285228816,
          10370844.009257924,
          5225996.49928446,
          4203351.433004091,
          1287099.47571896,
          1510384.4556298773,
          2524315.271365988,
          1950221.5078239096,
          2495735.662944511,
          2224755.4044127027,
          2877293.6545760394,
          1363741.6432868142,
          1365507.906557934,
          5138533.55620213,
          3074877.0871567545,
          1664437.705941974,
          2625299.7250685524,
          4424222.219429676,
          4128939.690841626,
          2222479.177183499,
          2963368.623157137,
          2555726.8679979355,
          2159436.705101355,
          4553939.737839545,
          2913397.2422827696,
          1811524.842790864,
          8626954.52913646,
          2384565.953909941,
          1819246.2721304053,
          935784.486095662
         ],
         "yaxis": "y"
        }
       ],
       "layout": {
        "barmode": "relative",
        "legend": {
         "tracegroupgap": 0
        },
        "margin": {
         "t": 60
        },
        "template": {
         "data": {
          "bar": [
           {
            "error_x": {
             "color": "#2a3f5f"
            },
            "error_y": {
             "color": "#2a3f5f"
            },
            "marker": {
             "line": {
              "color": "#E5ECF6",
              "width": 0.5
             },
             "pattern": {
              "fillmode": "overlay",
              "size": 10,
              "solidity": 0.2
             }
            },
            "type": "bar"
           }
          ],
          "barpolar": [
           {
            "marker": {
             "line": {
              "color": "#E5ECF6",
              "width": 0.5
             },
             "pattern": {
              "fillmode": "overlay",
              "size": 10,
              "solidity": 0.2
             }
            },
            "type": "barpolar"
           }
          ],
          "carpet": [
           {
            "aaxis": {
             "endlinecolor": "#2a3f5f",
             "gridcolor": "white",
             "linecolor": "white",
             "minorgridcolor": "white",
             "startlinecolor": "#2a3f5f"
            },
            "baxis": {
             "endlinecolor": "#2a3f5f",
             "gridcolor": "white",
             "linecolor": "white",
             "minorgridcolor": "white",
             "startlinecolor": "#2a3f5f"
            },
            "type": "carpet"
           }
          ],
          "choropleth": [
           {
            "colorbar": {
             "outlinewidth": 0,
             "ticks": ""
            },
            "type": "choropleth"
           }
          ],
          "contour": [
           {
            "colorbar": {
             "outlinewidth": 0,
             "ticks": ""
            },
            "colorscale": [
             [
              0,
              "#0d0887"
             ],
             [
              0.1111111111111111,
              "#46039f"
             ],
             [
              0.2222222222222222,
              "#7201a8"
             ],
             [
              0.3333333333333333,
              "#9c179e"
             ],
             [
              0.4444444444444444,
              "#bd3786"
             ],
             [
              0.5555555555555556,
              "#d8576b"
             ],
             [
              0.6666666666666666,
              "#ed7953"
             ],
             [
              0.7777777777777778,
              "#fb9f3a"
             ],
             [
              0.8888888888888888,
              "#fdca26"
             ],
             [
              1,
              "#f0f921"
             ]
            ],
            "type": "contour"
           }
          ],
          "contourcarpet": [
           {
            "colorbar": {
             "outlinewidth": 0,
             "ticks": ""
            },
            "type": "contourcarpet"
           }
          ],
          "heatmap": [
           {
            "colorbar": {
             "outlinewidth": 0,
             "ticks": ""
            },
            "colorscale": [
             [
              0,
              "#0d0887"
             ],
             [
              0.1111111111111111,
              "#46039f"
             ],
             [
              0.2222222222222222,
              "#7201a8"
             ],
             [
              0.3333333333333333,
              "#9c179e"
             ],
             [
              0.4444444444444444,
              "#bd3786"
             ],
             [
              0.5555555555555556,
              "#d8576b"
             ],
             [
              0.6666666666666666,
              "#ed7953"
             ],
             [
              0.7777777777777778,
              "#fb9f3a"
             ],
             [
              0.8888888888888888,
              "#fdca26"
             ],
             [
              1,
              "#f0f921"
             ]
            ],
            "type": "heatmap"
           }
          ],
          "heatmapgl": [
           {
            "colorbar": {
             "outlinewidth": 0,
             "ticks": ""
            },
            "colorscale": [
             [
              0,
              "#0d0887"
             ],
             [
              0.1111111111111111,
              "#46039f"
             ],
             [
              0.2222222222222222,
              "#7201a8"
             ],
             [
              0.3333333333333333,
              "#9c179e"
             ],
             [
              0.4444444444444444,
              "#bd3786"
             ],
             [
              0.5555555555555556,
              "#d8576b"
             ],
             [
              0.6666666666666666,
              "#ed7953"
             ],
             [
              0.7777777777777778,
              "#fb9f3a"
             ],
             [
              0.8888888888888888,
              "#fdca26"
             ],
             [
              1,
              "#f0f921"
             ]
            ],
            "type": "heatmapgl"
           }
          ],
          "histogram": [
           {
            "marker": {
             "pattern": {
              "fillmode": "overlay",
              "size": 10,
              "solidity": 0.2
             }
            },
            "type": "histogram"
           }
          ],
          "histogram2d": [
           {
            "colorbar": {
             "outlinewidth": 0,
             "ticks": ""
            },
            "colorscale": [
             [
              0,
              "#0d0887"
             ],
             [
              0.1111111111111111,
              "#46039f"
             ],
             [
              0.2222222222222222,
              "#7201a8"
             ],
             [
              0.3333333333333333,
              "#9c179e"
             ],
             [
              0.4444444444444444,
              "#bd3786"
             ],
             [
              0.5555555555555556,
              "#d8576b"
             ],
             [
              0.6666666666666666,
              "#ed7953"
             ],
             [
              0.7777777777777778,
              "#fb9f3a"
             ],
             [
              0.8888888888888888,
              "#fdca26"
             ],
             [
              1,
              "#f0f921"
             ]
            ],
            "type": "histogram2d"
           }
          ],
          "histogram2dcontour": [
           {
            "colorbar": {
             "outlinewidth": 0,
             "ticks": ""
            },
            "colorscale": [
             [
              0,
              "#0d0887"
             ],
             [
              0.1111111111111111,
              "#46039f"
             ],
             [
              0.2222222222222222,
              "#7201a8"
             ],
             [
              0.3333333333333333,
              "#9c179e"
             ],
             [
              0.4444444444444444,
              "#bd3786"
             ],
             [
              0.5555555555555556,
              "#d8576b"
             ],
             [
              0.6666666666666666,
              "#ed7953"
             ],
             [
              0.7777777777777778,
              "#fb9f3a"
             ],
             [
              0.8888888888888888,
              "#fdca26"
             ],
             [
              1,
              "#f0f921"
             ]
            ],
            "type": "histogram2dcontour"
           }
          ],
          "mesh3d": [
           {
            "colorbar": {
             "outlinewidth": 0,
             "ticks": ""
            },
            "type": "mesh3d"
           }
          ],
          "parcoords": [
           {
            "line": {
             "colorbar": {
              "outlinewidth": 0,
              "ticks": ""
             }
            },
            "type": "parcoords"
           }
          ],
          "pie": [
           {
            "automargin": true,
            "type": "pie"
           }
          ],
          "scatter": [
           {
            "marker": {
             "colorbar": {
              "outlinewidth": 0,
              "ticks": ""
             }
            },
            "type": "scatter"
           }
          ],
          "scatter3d": [
           {
            "line": {
             "colorbar": {
              "outlinewidth": 0,
              "ticks": ""
             }
            },
            "marker": {
             "colorbar": {
              "outlinewidth": 0,
              "ticks": ""
             }
            },
            "type": "scatter3d"
           }
          ],
          "scattercarpet": [
           {
            "marker": {
             "colorbar": {
              "outlinewidth": 0,
              "ticks": ""
             }
            },
            "type": "scattercarpet"
           }
          ],
          "scattergeo": [
           {
            "marker": {
             "colorbar": {
              "outlinewidth": 0,
              "ticks": ""
             }
            },
            "type": "scattergeo"
           }
          ],
          "scattergl": [
           {
            "marker": {
             "colorbar": {
              "outlinewidth": 0,
              "ticks": ""
             }
            },
            "type": "scattergl"
           }
          ],
          "scattermapbox": [
           {
            "marker": {
             "colorbar": {
              "outlinewidth": 0,
              "ticks": ""
             }
            },
            "type": "scattermapbox"
           }
          ],
          "scatterpolar": [
           {
            "marker": {
             "colorbar": {
              "outlinewidth": 0,
              "ticks": ""
             }
            },
            "type": "scatterpolar"
           }
          ],
          "scatterpolargl": [
           {
            "marker": {
             "colorbar": {
              "outlinewidth": 0,
              "ticks": ""
             }
            },
            "type": "scatterpolargl"
           }
          ],
          "scatterternary": [
           {
            "marker": {
             "colorbar": {
              "outlinewidth": 0,
              "ticks": ""
             }
            },
            "type": "scatterternary"
           }
          ],
          "surface": [
           {
            "colorbar": {
             "outlinewidth": 0,
             "ticks": ""
            },
            "colorscale": [
             [
              0,
              "#0d0887"
             ],
             [
              0.1111111111111111,
              "#46039f"
             ],
             [
              0.2222222222222222,
              "#7201a8"
             ],
             [
              0.3333333333333333,
              "#9c179e"
             ],
             [
              0.4444444444444444,
              "#bd3786"
             ],
             [
              0.5555555555555556,
              "#d8576b"
             ],
             [
              0.6666666666666666,
              "#ed7953"
             ],
             [
              0.7777777777777778,
              "#fb9f3a"
             ],
             [
              0.8888888888888888,
              "#fdca26"
             ],
             [
              1,
              "#f0f921"
             ]
            ],
            "type": "surface"
           }
          ],
          "table": [
           {
            "cells": {
             "fill": {
              "color": "#EBF0F8"
             },
             "line": {
              "color": "white"
             }
            },
            "header": {
             "fill": {
              "color": "#C8D4E3"
             },
             "line": {
              "color": "white"
             }
            },
            "type": "table"
           }
          ]
         },
         "layout": {
          "annotationdefaults": {
           "arrowcolor": "#2a3f5f",
           "arrowhead": 0,
           "arrowwidth": 1
          },
          "autotypenumbers": "strict",
          "coloraxis": {
           "colorbar": {
            "outlinewidth": 0,
            "ticks": ""
           }
          },
          "colorscale": {
           "diverging": [
            [
             0,
             "#8e0152"
            ],
            [
             0.1,
             "#c51b7d"
            ],
            [
             0.2,
             "#de77ae"
            ],
            [
             0.3,
             "#f1b6da"
            ],
            [
             0.4,
             "#fde0ef"
            ],
            [
             0.5,
             "#f7f7f7"
            ],
            [
             0.6,
             "#e6f5d0"
            ],
            [
             0.7,
             "#b8e186"
            ],
            [
             0.8,
             "#7fbc41"
            ],
            [
             0.9,
             "#4d9221"
            ],
            [
             1,
             "#276419"
            ]
           ],
           "sequential": [
            [
             0,
             "#0d0887"
            ],
            [
             0.1111111111111111,
             "#46039f"
            ],
            [
             0.2222222222222222,
             "#7201a8"
            ],
            [
             0.3333333333333333,
             "#9c179e"
            ],
            [
             0.4444444444444444,
             "#bd3786"
            ],
            [
             0.5555555555555556,
             "#d8576b"
            ],
            [
             0.6666666666666666,
             "#ed7953"
            ],
            [
             0.7777777777777778,
             "#fb9f3a"
            ],
            [
             0.8888888888888888,
             "#fdca26"
            ],
            [
             1,
             "#f0f921"
            ]
           ],
           "sequentialminus": [
            [
             0,
             "#0d0887"
            ],
            [
             0.1111111111111111,
             "#46039f"
            ],
            [
             0.2222222222222222,
             "#7201a8"
            ],
            [
             0.3333333333333333,
             "#9c179e"
            ],
            [
             0.4444444444444444,
             "#bd3786"
            ],
            [
             0.5555555555555556,
             "#d8576b"
            ],
            [
             0.6666666666666666,
             "#ed7953"
            ],
            [
             0.7777777777777778,
             "#fb9f3a"
            ],
            [
             0.8888888888888888,
             "#fdca26"
            ],
            [
             1,
             "#f0f921"
            ]
           ]
          },
          "colorway": [
           "#636efa",
           "#EF553B",
           "#00cc96",
           "#ab63fa",
           "#FFA15A",
           "#19d3f3",
           "#FF6692",
           "#B6E880",
           "#FF97FF",
           "#FECB52"
          ],
          "font": {
           "color": "#2a3f5f"
          },
          "geo": {
           "bgcolor": "white",
           "lakecolor": "white",
           "landcolor": "#E5ECF6",
           "showlakes": true,
           "showland": true,
           "subunitcolor": "white"
          },
          "hoverlabel": {
           "align": "left"
          },
          "hovermode": "closest",
          "mapbox": {
           "style": "light"
          },
          "paper_bgcolor": "white",
          "plot_bgcolor": "#E5ECF6",
          "polar": {
           "angularaxis": {
            "gridcolor": "white",
            "linecolor": "white",
            "ticks": ""
           },
           "bgcolor": "#E5ECF6",
           "radialaxis": {
            "gridcolor": "white",
            "linecolor": "white",
            "ticks": ""
           }
          },
          "scene": {
           "xaxis": {
            "backgroundcolor": "#E5ECF6",
            "gridcolor": "white",
            "gridwidth": 2,
            "linecolor": "white",
            "showbackground": true,
            "ticks": "",
            "zerolinecolor": "white"
           },
           "yaxis": {
            "backgroundcolor": "#E5ECF6",
            "gridcolor": "white",
            "gridwidth": 2,
            "linecolor": "white",
            "showbackground": true,
            "ticks": "",
            "zerolinecolor": "white"
           },
           "zaxis": {
            "backgroundcolor": "#E5ECF6",
            "gridcolor": "white",
            "gridwidth": 2,
            "linecolor": "white",
            "showbackground": true,
            "ticks": "",
            "zerolinecolor": "white"
           }
          },
          "shapedefaults": {
           "line": {
            "color": "#2a3f5f"
           }
          },
          "ternary": {
           "aaxis": {
            "gridcolor": "white",
            "linecolor": "white",
            "ticks": ""
           },
           "baxis": {
            "gridcolor": "white",
            "linecolor": "white",
            "ticks": ""
           },
           "bgcolor": "#E5ECF6",
           "caxis": {
            "gridcolor": "white",
            "linecolor": "white",
            "ticks": ""
           }
          },
          "title": {
           "x": 0.05
          },
          "xaxis": {
           "automargin": true,
           "gridcolor": "white",
           "linecolor": "white",
           "ticks": "",
           "title": {
            "standoff": 15
           },
           "zerolinecolor": "white",
           "zerolinewidth": 2
          },
          "yaxis": {
           "automargin": true,
           "gridcolor": "white",
           "linecolor": "white",
           "ticks": "",
           "title": {
            "standoff": 15
           },
           "zerolinecolor": "white",
           "zerolinewidth": 2
          }
         }
        },
        "xaxis": {
         "anchor": "y",
         "domain": [
          0,
          1
         ],
         "title": {
          "text": "STATE"
         }
        },
        "yaxis": {
         "anchor": "x",
         "domain": [
          0,
          1
         ],
         "title": {
          "text": "sum of AVG(INCOME_AMT)"
         }
        }
       }
      },
      "text/html": [
       "<div>                            <div id=\"41e0ba1a-5e02-4c68-b973-be2f13e84da2\" class=\"plotly-graph-div\" style=\"height:525px; width:100%;\"></div>            <script type=\"text/javascript\">                require([\"plotly\"], function(Plotly) {                    window.PLOTLYENV=window.PLOTLYENV || {};                                    if (document.getElementById(\"41e0ba1a-5e02-4c68-b973-be2f13e84da2\")) {                    Plotly.newPlot(                        \"41e0ba1a-5e02-4c68-b973-be2f13e84da2\",                        [{\"alignmentgroup\":\"True\",\"bingroup\":\"x\",\"histfunc\":\"sum\",\"hovertemplate\":\"STATE=%{x}<br>sum of AVG(INCOME_AMT)=%{y}<extra></extra>\",\"legendgroup\":\"\",\"marker\":{\"color\":\"#636efa\",\"pattern\":{\"shape\":\"\"}},\"name\":\"\",\"offsetgroup\":\"\",\"orientation\":\"v\",\"showlegend\":false,\"x\":[\"AK\",\"AL\",\"AR\",\"AZ\",\"CA\",\"CO\",\"CT\",\"DC\",\"DE\",\"FL\",\"GA\",\"HI\",\"IA\",\"ID\",\"IL\",\"IN\",\"KS\",\"KY\",\"LA\",\"MA\",\"MD\",\"ME\",\"MI\",\"MN\",\"MO\",\"MS\",\"MT\",\"NC\",\"ND\",\"NE\",\"NH\",\"NJ\",\"NM\",\"NV\",\"NY\",\"OH\",\"OK\",\"OR\",\"PA\",\"RI\",\"SC\",\"SD\",\"TN\",\"TX\",\"UT\",\"VA\",\"VT\",\"WA\",\"WI\",\"WV\",\"WY\"],\"xaxis\":\"x\",\"y\":[2322276.859561978,1137121.581027668,2954867.5361621715,2739957.500046322,5285630.616338004,2099825.2311725984,3419696.153862708,11741666.320386628,8913428.282793093,2209776.8467478147,2891211.4651076007,3818777.491870514,1241065.0800809138,1569709.8205263854,5073639.796272391,3140271.4498824878,1510965.1808580377,2351815.1318389974,1932273.1817530023,7682783.296330066,4570836.292860743,2604959.4285228816,10370844.009257924,5225996.49928446,4203351.433004091,1287099.47571896,1510384.4556298773,2524315.271365988,1950221.5078239096,2495735.662944511,2224755.4044127027,2877293.6545760394,1363741.6432868142,1365507.906557934,5138533.55620213,3074877.0871567545,1664437.705941974,2625299.7250685524,4424222.219429676,4128939.690841626,2222479.177183499,2963368.623157137,2555726.8679979355,2159436.705101355,4553939.737839545,2913397.2422827696,1811524.842790864,8626954.52913646,2384565.953909941,1819246.2721304053,935784.486095662],\"yaxis\":\"y\",\"type\":\"histogram\"}],                        {\"template\":{\"data\":{\"bar\":[{\"error_x\":{\"color\":\"#2a3f5f\"},\"error_y\":{\"color\":\"#2a3f5f\"},\"marker\":{\"line\":{\"color\":\"#E5ECF6\",\"width\":0.5},\"pattern\":{\"fillmode\":\"overlay\",\"size\":10,\"solidity\":0.2}},\"type\":\"bar\"}],\"barpolar\":[{\"marker\":{\"line\":{\"color\":\"#E5ECF6\",\"width\":0.5},\"pattern\":{\"fillmode\":\"overlay\",\"size\":10,\"solidity\":0.2}},\"type\":\"barpolar\"}],\"carpet\":[{\"aaxis\":{\"endlinecolor\":\"#2a3f5f\",\"gridcolor\":\"white\",\"linecolor\":\"white\",\"minorgridcolor\":\"white\",\"startlinecolor\":\"#2a3f5f\"},\"baxis\":{\"endlinecolor\":\"#2a3f5f\",\"gridcolor\":\"white\",\"linecolor\":\"white\",\"minorgridcolor\":\"white\",\"startlinecolor\":\"#2a3f5f\"},\"type\":\"carpet\"}],\"choropleth\":[{\"colorbar\":{\"outlinewidth\":0,\"ticks\":\"\"},\"type\":\"choropleth\"}],\"contour\":[{\"colorbar\":{\"outlinewidth\":0,\"ticks\":\"\"},\"colorscale\":[[0.0,\"#0d0887\"],[0.1111111111111111,\"#46039f\"],[0.2222222222222222,\"#7201a8\"],[0.3333333333333333,\"#9c179e\"],[0.4444444444444444,\"#bd3786\"],[0.5555555555555556,\"#d8576b\"],[0.6666666666666666,\"#ed7953\"],[0.7777777777777778,\"#fb9f3a\"],[0.8888888888888888,\"#fdca26\"],[1.0,\"#f0f921\"]],\"type\":\"contour\"}],\"contourcarpet\":[{\"colorbar\":{\"outlinewidth\":0,\"ticks\":\"\"},\"type\":\"contourcarpet\"}],\"heatmap\":[{\"colorbar\":{\"outlinewidth\":0,\"ticks\":\"\"},\"colorscale\":[[0.0,\"#0d0887\"],[0.1111111111111111,\"#46039f\"],[0.2222222222222222,\"#7201a8\"],[0.3333333333333333,\"#9c179e\"],[0.4444444444444444,\"#bd3786\"],[0.5555555555555556,\"#d8576b\"],[0.6666666666666666,\"#ed7953\"],[0.7777777777777778,\"#fb9f3a\"],[0.8888888888888888,\"#fdca26\"],[1.0,\"#f0f921\"]],\"type\":\"heatmap\"}],\"heatmapgl\":[{\"colorbar\":{\"outlinewidth\":0,\"ticks\":\"\"},\"colorscale\":[[0.0,\"#0d0887\"],[0.1111111111111111,\"#46039f\"],[0.2222222222222222,\"#7201a8\"],[0.3333333333333333,\"#9c179e\"],[0.4444444444444444,\"#bd3786\"],[0.5555555555555556,\"#d8576b\"],[0.6666666666666666,\"#ed7953\"],[0.7777777777777778,\"#fb9f3a\"],[0.8888888888888888,\"#fdca26\"],[1.0,\"#f0f921\"]],\"type\":\"heatmapgl\"}],\"histogram\":[{\"marker\":{\"pattern\":{\"fillmode\":\"overlay\",\"size\":10,\"solidity\":0.2}},\"type\":\"histogram\"}],\"histogram2d\":[{\"colorbar\":{\"outlinewidth\":0,\"ticks\":\"\"},\"colorscale\":[[0.0,\"#0d0887\"],[0.1111111111111111,\"#46039f\"],[0.2222222222222222,\"#7201a8\"],[0.3333333333333333,\"#9c179e\"],[0.4444444444444444,\"#bd3786\"],[0.5555555555555556,\"#d8576b\"],[0.6666666666666666,\"#ed7953\"],[0.7777777777777778,\"#fb9f3a\"],[0.8888888888888888,\"#fdca26\"],[1.0,\"#f0f921\"]],\"type\":\"histogram2d\"}],\"histogram2dcontour\":[{\"colorbar\":{\"outlinewidth\":0,\"ticks\":\"\"},\"colorscale\":[[0.0,\"#0d0887\"],[0.1111111111111111,\"#46039f\"],[0.2222222222222222,\"#7201a8\"],[0.3333333333333333,\"#9c179e\"],[0.4444444444444444,\"#bd3786\"],[0.5555555555555556,\"#d8576b\"],[0.6666666666666666,\"#ed7953\"],[0.7777777777777778,\"#fb9f3a\"],[0.8888888888888888,\"#fdca26\"],[1.0,\"#f0f921\"]],\"type\":\"histogram2dcontour\"}],\"mesh3d\":[{\"colorbar\":{\"outlinewidth\":0,\"ticks\":\"\"},\"type\":\"mesh3d\"}],\"parcoords\":[{\"line\":{\"colorbar\":{\"outlinewidth\":0,\"ticks\":\"\"}},\"type\":\"parcoords\"}],\"pie\":[{\"automargin\":true,\"type\":\"pie\"}],\"scatter\":[{\"marker\":{\"colorbar\":{\"outlinewidth\":0,\"ticks\":\"\"}},\"type\":\"scatter\"}],\"scatter3d\":[{\"line\":{\"colorbar\":{\"outlinewidth\":0,\"ticks\":\"\"}},\"marker\":{\"colorbar\":{\"outlinewidth\":0,\"ticks\":\"\"}},\"type\":\"scatter3d\"}],\"scattercarpet\":[{\"marker\":{\"colorbar\":{\"outlinewidth\":0,\"ticks\":\"\"}},\"type\":\"scattercarpet\"}],\"scattergeo\":[{\"marker\":{\"colorbar\":{\"outlinewidth\":0,\"ticks\":\"\"}},\"type\":\"scattergeo\"}],\"scattergl\":[{\"marker\":{\"colorbar\":{\"outlinewidth\":0,\"ticks\":\"\"}},\"type\":\"scattergl\"}],\"scattermapbox\":[{\"marker\":{\"colorbar\":{\"outlinewidth\":0,\"ticks\":\"\"}},\"type\":\"scattermapbox\"}],\"scatterpolar\":[{\"marker\":{\"colorbar\":{\"outlinewidth\":0,\"ticks\":\"\"}},\"type\":\"scatterpolar\"}],\"scatterpolargl\":[{\"marker\":{\"colorbar\":{\"outlinewidth\":0,\"ticks\":\"\"}},\"type\":\"scatterpolargl\"}],\"scatterternary\":[{\"marker\":{\"colorbar\":{\"outlinewidth\":0,\"ticks\":\"\"}},\"type\":\"scatterternary\"}],\"surface\":[{\"colorbar\":{\"outlinewidth\":0,\"ticks\":\"\"},\"colorscale\":[[0.0,\"#0d0887\"],[0.1111111111111111,\"#46039f\"],[0.2222222222222222,\"#7201a8\"],[0.3333333333333333,\"#9c179e\"],[0.4444444444444444,\"#bd3786\"],[0.5555555555555556,\"#d8576b\"],[0.6666666666666666,\"#ed7953\"],[0.7777777777777778,\"#fb9f3a\"],[0.8888888888888888,\"#fdca26\"],[1.0,\"#f0f921\"]],\"type\":\"surface\"}],\"table\":[{\"cells\":{\"fill\":{\"color\":\"#EBF0F8\"},\"line\":{\"color\":\"white\"}},\"header\":{\"fill\":{\"color\":\"#C8D4E3\"},\"line\":{\"color\":\"white\"}},\"type\":\"table\"}]},\"layout\":{\"annotationdefaults\":{\"arrowcolor\":\"#2a3f5f\",\"arrowhead\":0,\"arrowwidth\":1},\"autotypenumbers\":\"strict\",\"coloraxis\":{\"colorbar\":{\"outlinewidth\":0,\"ticks\":\"\"}},\"colorscale\":{\"diverging\":[[0,\"#8e0152\"],[0.1,\"#c51b7d\"],[0.2,\"#de77ae\"],[0.3,\"#f1b6da\"],[0.4,\"#fde0ef\"],[0.5,\"#f7f7f7\"],[0.6,\"#e6f5d0\"],[0.7,\"#b8e186\"],[0.8,\"#7fbc41\"],[0.9,\"#4d9221\"],[1,\"#276419\"]],\"sequential\":[[0.0,\"#0d0887\"],[0.1111111111111111,\"#46039f\"],[0.2222222222222222,\"#7201a8\"],[0.3333333333333333,\"#9c179e\"],[0.4444444444444444,\"#bd3786\"],[0.5555555555555556,\"#d8576b\"],[0.6666666666666666,\"#ed7953\"],[0.7777777777777778,\"#fb9f3a\"],[0.8888888888888888,\"#fdca26\"],[1.0,\"#f0f921\"]],\"sequentialminus\":[[0.0,\"#0d0887\"],[0.1111111111111111,\"#46039f\"],[0.2222222222222222,\"#7201a8\"],[0.3333333333333333,\"#9c179e\"],[0.4444444444444444,\"#bd3786\"],[0.5555555555555556,\"#d8576b\"],[0.6666666666666666,\"#ed7953\"],[0.7777777777777778,\"#fb9f3a\"],[0.8888888888888888,\"#fdca26\"],[1.0,\"#f0f921\"]]},\"colorway\":[\"#636efa\",\"#EF553B\",\"#00cc96\",\"#ab63fa\",\"#FFA15A\",\"#19d3f3\",\"#FF6692\",\"#B6E880\",\"#FF97FF\",\"#FECB52\"],\"font\":{\"color\":\"#2a3f5f\"},\"geo\":{\"bgcolor\":\"white\",\"lakecolor\":\"white\",\"landcolor\":\"#E5ECF6\",\"showlakes\":true,\"showland\":true,\"subunitcolor\":\"white\"},\"hoverlabel\":{\"align\":\"left\"},\"hovermode\":\"closest\",\"mapbox\":{\"style\":\"light\"},\"paper_bgcolor\":\"white\",\"plot_bgcolor\":\"#E5ECF6\",\"polar\":{\"angularaxis\":{\"gridcolor\":\"white\",\"linecolor\":\"white\",\"ticks\":\"\"},\"bgcolor\":\"#E5ECF6\",\"radialaxis\":{\"gridcolor\":\"white\",\"linecolor\":\"white\",\"ticks\":\"\"}},\"scene\":{\"xaxis\":{\"backgroundcolor\":\"#E5ECF6\",\"gridcolor\":\"white\",\"gridwidth\":2,\"linecolor\":\"white\",\"showbackground\":true,\"ticks\":\"\",\"zerolinecolor\":\"white\"},\"yaxis\":{\"backgroundcolor\":\"#E5ECF6\",\"gridcolor\":\"white\",\"gridwidth\":2,\"linecolor\":\"white\",\"showbackground\":true,\"ticks\":\"\",\"zerolinecolor\":\"white\"},\"zaxis\":{\"backgroundcolor\":\"#E5ECF6\",\"gridcolor\":\"white\",\"gridwidth\":2,\"linecolor\":\"white\",\"showbackground\":true,\"ticks\":\"\",\"zerolinecolor\":\"white\"}},\"shapedefaults\":{\"line\":{\"color\":\"#2a3f5f\"}},\"ternary\":{\"aaxis\":{\"gridcolor\":\"white\",\"linecolor\":\"white\",\"ticks\":\"\"},\"baxis\":{\"gridcolor\":\"white\",\"linecolor\":\"white\",\"ticks\":\"\"},\"bgcolor\":\"#E5ECF6\",\"caxis\":{\"gridcolor\":\"white\",\"linecolor\":\"white\",\"ticks\":\"\"}},\"title\":{\"x\":0.05},\"xaxis\":{\"automargin\":true,\"gridcolor\":\"white\",\"linecolor\":\"white\",\"ticks\":\"\",\"title\":{\"standoff\":15},\"zerolinecolor\":\"white\",\"zerolinewidth\":2},\"yaxis\":{\"automargin\":true,\"gridcolor\":\"white\",\"linecolor\":\"white\",\"ticks\":\"\",\"title\":{\"standoff\":15},\"zerolinecolor\":\"white\",\"zerolinewidth\":2}}},\"xaxis\":{\"anchor\":\"y\",\"domain\":[0.0,1.0],\"title\":{\"text\":\"STATE\"}},\"yaxis\":{\"anchor\":\"x\",\"domain\":[0.0,1.0],\"title\":{\"text\":\"sum of AVG(INCOME_AMT)\"}},\"legend\":{\"tracegroupgap\":0},\"margin\":{\"t\":60},\"barmode\":\"relative\"},                        {\"responsive\": true}                    ).then(function(){\n",
       "                            \n",
       "var gd = document.getElementById('41e0ba1a-5e02-4c68-b973-be2f13e84da2');\n",
       "var x = new MutationObserver(function (mutations, observer) {{\n",
       "        var display = window.getComputedStyle(gd).display;\n",
       "        if (!display || display === 'none') {{\n",
       "            console.log([gd, 'removed!']);\n",
       "            Plotly.purge(gd);\n",
       "            observer.disconnect();\n",
       "        }}\n",
       "}});\n",
       "\n",
       "// Listen for the removal of the full notebook cells\n",
       "var notebookContainer = gd.closest('#notebook-container');\n",
       "if (notebookContainer) {{\n",
       "    x.observe(notebookContainer, {childList: true});\n",
       "}}\n",
       "\n",
       "// Listen for the clearing of the current output cell\n",
       "var outputEl = gd.closest('.output');\n",
       "if (outputEl) {{\n",
       "    x.observe(outputEl, {childList: true});\n",
       "}}\n",
       "\n",
       "                        })                };                });            </script>        </div>"
      ]
     },
     "metadata": {},
     "output_type": "display_data"
    }
   ],
   "source": [
    "#plot average income for each state in 2022\n",
    "\n",
    "import plotly.express as px\n",
    "import plotly\n",
    "\n",
    "\n",
    "df = pd.DataFrame(pd.read_csv(\"file.csv\"))\n",
    "fig = px.histogram(df, x='STATE', y='AVG(INCOME_AMT)')\n",
    "\n",
    "#plotly.offline.iplot(fig)\n",
    "fig.show("notebook")\n",
    "\n",
    "# see this fihure (Figure 1) in the main GitHub repo\n",
    "\n",
    "#if you place your mouse cursor on each bar, you wee see the value for each state and Wyoming WY has the lowest income compare to \n",
    "#Washington (DC) (highest income)"
   ]
  },
  {
   "cell_type": "code",
   "execution_count": null,
   "id": "d04f0dc8",
   "metadata": {},
   "outputs": [],
   "source": [
    "# For example, these results could guide governments to give more money or support to EO in need"
   ]
  }
 ],
 "metadata": {
  "kernelspec": {
   "display_name": "Python 3 (ipykernel)",
   "language": "python",
   "name": "python3"
  },
  "language_info": {
   "codemirror_mode": {
    "name": "ipython",
    "version": 3
   },
   "file_extension": ".py",
   "mimetype": "text/x-python",
   "name": "python",
   "nbconvert_exporter": "python",
   "pygments_lexer": "ipython3",
   "version": "3.9.12"
  }
 },
 "nbformat": 4,
 "nbformat_minor": 5
}
