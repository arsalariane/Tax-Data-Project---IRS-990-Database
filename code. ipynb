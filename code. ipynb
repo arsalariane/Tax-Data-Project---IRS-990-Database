#importing pandas as pd
import pandas as pd
  
# Read and store content
# of an excel file 
read_file = pd.read_excel ("18eoextractez.xlsx")
  
# Write the dataframe object
# into csv file
read_file.to_csv ("tax_990-EZ_2018.csv", 
                  index = None,
                  header=True)
    
# read csv file and convert 
# into a dataframe object
df = pd.DataFrame(pd.read_csv("tax_990-EZ_2018.csv"))
  
print("I finished creating the csv.file.")

# show the dataframe
df
